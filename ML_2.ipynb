{
 "cells": [
  {
   "cell_type": "code",
   "execution_count": 1,
   "metadata": {},
   "outputs": [],
   "source": [
    "import numpy as np\n",
    "import matplotlib.pyplot as plt\n",
    "%matplotlib inline\n",
    "   # Говорим jupyter'у, чтобы весь графический вывод был в браузере, а не в отдельном окне\n",
    "import pandas as pd             # Таблицы и временные ряды (dataframe, series)\n",
    "import seaborn as sns           # Еще больше красивой графики для визуализации данных\n",
    "import sklearn                  # Алгоритмы машинного обучения\n",
    "\n"
   ]
  },
  {
   "cell_type": "markdown",
   "metadata": {},
   "source": [
    "# 1. Чтение и подготовка данных\n"
   ]
  },
  {
   "cell_type": "code",
   "execution_count": 2,
   "metadata": {},
   "outputs": [],
   "source": [
    "url = \"https://raw.githubusercontent.com/Sermjazhko/ML/master/filmtv_movies.csv\"\n",
    "data = pd.read_csv(url)\n"
   ]
  },
  {
   "cell_type": "markdown",
   "metadata": {},
   "source": [
    "Убираем ненужные символы в данных и ненужные столбцы. Добавляем столбец, который определяет кассовые сборы. "
   ]
  },
  {
   "cell_type": "code",
   "execution_count": 3,
   "metadata": {},
   "outputs": [],
   "source": [
    "\n",
    "data.drop(['filmtv_id'], axis=1, inplace = True)\n",
    "\n",
    "data[\"boolHumor\"] = np.where(data[\"humor\"] >= 2.0, 1, 0) "
   ]
  },
  {
   "cell_type": "code",
   "execution_count": 4,
   "metadata": {},
   "outputs": [
    {
     "data": {
      "text/plain": [
       "(37711, 19)"
      ]
     },
     "execution_count": 4,
     "metadata": {},
     "output_type": "execute_result"
    }
   ],
   "source": [
    "data.shape"
   ]
  },
  {
   "cell_type": "markdown",
   "metadata": {},
   "source": [
    "Преобразуем к категориальным признакам"
   ]
  },
  {
   "cell_type": "code",
   "execution_count": 5,
   "metadata": {},
   "outputs": [],
   "source": [
    "data['actors'] = data['actors'].astype('category')\n",
    "data['directors'] = data['directors'].astype('category')\n",
    "data['country'] = data['country'].astype('category')\n",
    "data['genre'] = data['genre'].astype('category')"
   ]
  },
  {
   "cell_type": "code",
   "execution_count": 6,
   "metadata": {},
   "outputs": [
    {
     "data": {
      "text/plain": [
       "title               0\n",
       "year                0\n",
       "genre              88\n",
       "duration            0\n",
       "country             9\n",
       "directors          29\n",
       "actors           1868\n",
       "avg_vote            0\n",
       "critics_vote     4085\n",
       "public_vote       219\n",
       "total_votes         0\n",
       "description      1391\n",
       "notes           19606\n",
       "humor               0\n",
       "rhythm              0\n",
       "effort              0\n",
       "tension             0\n",
       "erotism             0\n",
       "boolHumor           0\n",
       "dtype: int64"
      ]
     },
     "execution_count": 6,
     "metadata": {},
     "output_type": "execute_result"
    }
   ],
   "source": [
    "data.isna()\n",
    "data.isna().sum()"
   ]
  },
  {
   "cell_type": "code",
   "execution_count": 7,
   "metadata": {},
   "outputs": [],
   "source": [
    "data['genre'].fillna(data['genre'].mode().iloc[0], inplace=True)\n",
    "data['country'].fillna(data['country'].mode().iloc[0], inplace=True)\n",
    "data['directors'].fillna(data['directors'].mode().iloc[0], inplace=True)\n",
    "data['actors'].fillna(data['actors'].mode().iloc[0], inplace=True)"
   ]
  },
  {
   "cell_type": "code",
   "execution_count": 8,
   "metadata": {},
   "outputs": [
    {
     "data": {
      "text/plain": [
       "title               0\n",
       "year                0\n",
       "genre               0\n",
       "duration            0\n",
       "country             0\n",
       "directors           0\n",
       "actors              0\n",
       "avg_vote            0\n",
       "critics_vote     4085\n",
       "public_vote       219\n",
       "total_votes         0\n",
       "description      1391\n",
       "notes           19606\n",
       "humor               0\n",
       "rhythm              0\n",
       "effort              0\n",
       "tension             0\n",
       "erotism             0\n",
       "boolHumor           0\n",
       "dtype: int64"
      ]
     },
     "execution_count": 8,
     "metadata": {},
     "output_type": "execute_result"
    }
   ],
   "source": [
    "data.isna().sum()"
   ]
  },
  {
   "cell_type": "code",
   "execution_count": 9,
   "metadata": {},
   "outputs": [],
   "source": [
    "data.fillna(data.median(axis = 0), axis=0 , inplace=True)\n",
    "data['description'].fillna('No description, no photo, no nothing at all!', inplace=True)\n",
    "data['notes'].fillna('No description, no photo, no nothing at all!', inplace=True)"
   ]
  },
  {
   "cell_type": "code",
   "execution_count": 10,
   "metadata": {},
   "outputs": [
    {
     "data": {
      "text/plain": [
       "title           0\n",
       "year            0\n",
       "genre           0\n",
       "duration        0\n",
       "country         0\n",
       "directors       0\n",
       "actors          0\n",
       "avg_vote        0\n",
       "critics_vote    0\n",
       "public_vote     0\n",
       "total_votes     0\n",
       "description     0\n",
       "notes           0\n",
       "humor           0\n",
       "rhythm          0\n",
       "effort          0\n",
       "tension         0\n",
       "erotism         0\n",
       "boolHumor       0\n",
       "dtype: int64"
      ]
     },
     "execution_count": 10,
     "metadata": {},
     "output_type": "execute_result"
    }
   ],
   "source": [
    "data.isna().sum()"
   ]
  },
  {
   "cell_type": "code",
   "execution_count": null,
   "metadata": {},
   "outputs": [],
   "source": []
  },
  {
   "cell_type": "code",
   "execution_count": 11,
   "metadata": {
    "scrolled": true
   },
   "outputs": [
    {
     "data": {
      "text/html": [
       "<div>\n",
       "<style scoped>\n",
       "    .dataframe tbody tr th:only-of-type {\n",
       "        vertical-align: middle;\n",
       "    }\n",
       "\n",
       "    .dataframe tbody tr th {\n",
       "        vertical-align: top;\n",
       "    }\n",
       "\n",
       "    .dataframe thead th {\n",
       "        text-align: right;\n",
       "    }\n",
       "</style>\n",
       "<table border=\"1\" class=\"dataframe\">\n",
       "  <thead>\n",
       "    <tr style=\"text-align: right;\">\n",
       "      <th></th>\n",
       "      <th>title</th>\n",
       "      <th>year</th>\n",
       "      <th>genre</th>\n",
       "      <th>duration</th>\n",
       "      <th>country</th>\n",
       "      <th>directors</th>\n",
       "      <th>actors</th>\n",
       "      <th>avg_vote</th>\n",
       "      <th>critics_vote</th>\n",
       "      <th>public_vote</th>\n",
       "      <th>total_votes</th>\n",
       "      <th>description</th>\n",
       "      <th>notes</th>\n",
       "      <th>humor</th>\n",
       "      <th>rhythm</th>\n",
       "      <th>effort</th>\n",
       "      <th>tension</th>\n",
       "      <th>erotism</th>\n",
       "      <th>boolHumor</th>\n",
       "    </tr>\n",
       "  </thead>\n",
       "  <tbody>\n",
       "    <tr>\n",
       "      <th>0</th>\n",
       "      <td>Bugs Bunny's Third Movie: 1001 Rabbit Tales</td>\n",
       "      <td>1982</td>\n",
       "      <td>Animation</td>\n",
       "      <td>76</td>\n",
       "      <td>United States</td>\n",
       "      <td>David Detiege, Art Davis, Bill Perez</td>\n",
       "      <td>Attori non professionisti</td>\n",
       "      <td>7.7</td>\n",
       "      <td>8.00</td>\n",
       "      <td>7.0</td>\n",
       "      <td>21</td>\n",
       "      <td>With two protruding front teeth, a slightly sl...</td>\n",
       "      <td>These are many small independent stories, whic...</td>\n",
       "      <td>3</td>\n",
       "      <td>3</td>\n",
       "      <td>0</td>\n",
       "      <td>0</td>\n",
       "      <td>0</td>\n",
       "      <td>1</td>\n",
       "    </tr>\n",
       "    <tr>\n",
       "      <th>1</th>\n",
       "      <td>18 anni tra una settimana</td>\n",
       "      <td>1991</td>\n",
       "      <td>Drama</td>\n",
       "      <td>98</td>\n",
       "      <td>Italy</td>\n",
       "      <td>Luigi Perelli</td>\n",
       "      <td>Kim Rossi Stuart, Simona Cavallari, Ennio Fant...</td>\n",
       "      <td>6.5</td>\n",
       "      <td>6.00</td>\n",
       "      <td>7.0</td>\n",
       "      <td>4</td>\n",
       "      <td>Samantha, not yet eighteen, leaves the comfort...</td>\n",
       "      <td>Luigi Perelli, the director of the \"Piovra\", o...</td>\n",
       "      <td>0</td>\n",
       "      <td>2</td>\n",
       "      <td>0</td>\n",
       "      <td>2</td>\n",
       "      <td>0</td>\n",
       "      <td>0</td>\n",
       "    </tr>\n",
       "    <tr>\n",
       "      <th>2</th>\n",
       "      <td>Ride a Wild Pony</td>\n",
       "      <td>1976</td>\n",
       "      <td>Romantic</td>\n",
       "      <td>91</td>\n",
       "      <td>United States</td>\n",
       "      <td>Don Chaffey</td>\n",
       "      <td>Michael Craig, John Meillon, Eva Griffith, Gra...</td>\n",
       "      <td>5.6</td>\n",
       "      <td>6.00</td>\n",
       "      <td>5.0</td>\n",
       "      <td>9</td>\n",
       "      <td>In the Australia of the pioneers, a boy and a ...</td>\n",
       "      <td>\"Ecological\" story with a happy ending, not wi...</td>\n",
       "      <td>1</td>\n",
       "      <td>2</td>\n",
       "      <td>1</td>\n",
       "      <td>0</td>\n",
       "      <td>0</td>\n",
       "      <td>0</td>\n",
       "    </tr>\n",
       "    <tr>\n",
       "      <th>3</th>\n",
       "      <td>Diner</td>\n",
       "      <td>1982</td>\n",
       "      <td>Comedy</td>\n",
       "      <td>95</td>\n",
       "      <td>United States</td>\n",
       "      <td>Barry Levinson</td>\n",
       "      <td>Mickey Rourke, Steve Guttenberg, Ellen Barkin,...</td>\n",
       "      <td>7.0</td>\n",
       "      <td>8.00</td>\n",
       "      <td>6.0</td>\n",
       "      <td>18</td>\n",
       "      <td>Five boys from Baltimore have a habit of meeti...</td>\n",
       "      <td>A cast of will be famous for Levinson's direct...</td>\n",
       "      <td>2</td>\n",
       "      <td>2</td>\n",
       "      <td>0</td>\n",
       "      <td>1</td>\n",
       "      <td>2</td>\n",
       "      <td>1</td>\n",
       "    </tr>\n",
       "    <tr>\n",
       "      <th>4</th>\n",
       "      <td>A che servono questi quattrini?</td>\n",
       "      <td>1942</td>\n",
       "      <td>Comedy</td>\n",
       "      <td>85</td>\n",
       "      <td>Italy</td>\n",
       "      <td>Esodo Pratelli</td>\n",
       "      <td>Eduardo De Filippo, Peppino De Filippo, Clelia...</td>\n",
       "      <td>5.9</td>\n",
       "      <td>5.33</td>\n",
       "      <td>7.0</td>\n",
       "      <td>14</td>\n",
       "      <td>With a stratagem, the penniless and somewhat p...</td>\n",
       "      <td>Taken from the play by Armando Curcio that the...</td>\n",
       "      <td>3</td>\n",
       "      <td>1</td>\n",
       "      <td>1</td>\n",
       "      <td>0</td>\n",
       "      <td>0</td>\n",
       "      <td>1</td>\n",
       "    </tr>\n",
       "  </tbody>\n",
       "</table>\n",
       "</div>"
      ],
      "text/plain": [
       "                                         title  year      genre  duration  \\\n",
       "0  Bugs Bunny's Third Movie: 1001 Rabbit Tales  1982  Animation        76   \n",
       "1                    18 anni tra una settimana  1991      Drama        98   \n",
       "2                             Ride a Wild Pony  1976   Romantic        91   \n",
       "3                                        Diner  1982     Comedy        95   \n",
       "4              A che servono questi quattrini?  1942     Comedy        85   \n",
       "\n",
       "         country                             directors  \\\n",
       "0  United States  David Detiege, Art Davis, Bill Perez   \n",
       "1          Italy                         Luigi Perelli   \n",
       "2  United States                           Don Chaffey   \n",
       "3  United States                        Barry Levinson   \n",
       "4          Italy                        Esodo Pratelli   \n",
       "\n",
       "                                              actors  avg_vote  critics_vote  \\\n",
       "0                          Attori non professionisti       7.7          8.00   \n",
       "1  Kim Rossi Stuart, Simona Cavallari, Ennio Fant...       6.5          6.00   \n",
       "2  Michael Craig, John Meillon, Eva Griffith, Gra...       5.6          6.00   \n",
       "3  Mickey Rourke, Steve Guttenberg, Ellen Barkin,...       7.0          8.00   \n",
       "4  Eduardo De Filippo, Peppino De Filippo, Clelia...       5.9          5.33   \n",
       "\n",
       "   public_vote  total_votes  \\\n",
       "0          7.0           21   \n",
       "1          7.0            4   \n",
       "2          5.0            9   \n",
       "3          6.0           18   \n",
       "4          7.0           14   \n",
       "\n",
       "                                         description  \\\n",
       "0  With two protruding front teeth, a slightly sl...   \n",
       "1  Samantha, not yet eighteen, leaves the comfort...   \n",
       "2  In the Australia of the pioneers, a boy and a ...   \n",
       "3  Five boys from Baltimore have a habit of meeti...   \n",
       "4  With a stratagem, the penniless and somewhat p...   \n",
       "\n",
       "                                               notes  humor  rhythm  effort  \\\n",
       "0  These are many small independent stories, whic...      3       3       0   \n",
       "1  Luigi Perelli, the director of the \"Piovra\", o...      0       2       0   \n",
       "2  \"Ecological\" story with a happy ending, not wi...      1       2       1   \n",
       "3  A cast of will be famous for Levinson's direct...      2       2       0   \n",
       "4  Taken from the play by Armando Curcio that the...      3       1       1   \n",
       "\n",
       "   tension  erotism  boolHumor  \n",
       "0        0        0          1  \n",
       "1        2        0          0  \n",
       "2        0        0          0  \n",
       "3        1        2          1  \n",
       "4        0        0          1  "
      ]
     },
     "execution_count": 11,
     "metadata": {},
     "output_type": "execute_result"
    }
   ],
   "source": [
    "data.head()"
   ]
  },
  {
   "cell_type": "code",
   "execution_count": 12,
   "metadata": {},
   "outputs": [],
   "source": [
    "data['actors'] = pd.factorize(data['actors'])[0]\n",
    "data['directors'] = pd.factorize(data['directors'])[0]\n",
    "data['country'] = pd.factorize(data['country'])[0]\n",
    "data['genre'] = pd.factorize(data['genre'])[0]"
   ]
  },
  {
   "cell_type": "code",
   "execution_count": 13,
   "metadata": {},
   "outputs": [],
   "source": [
    "data.drop(['title', 'description', 'notes', 'directors', 'actors'], axis=1, inplace = True)"
   ]
  },
  {
   "cell_type": "code",
   "execution_count": 14,
   "metadata": {},
   "outputs": [
    {
     "data": {
      "text/html": [
       "<div>\n",
       "<style scoped>\n",
       "    .dataframe tbody tr th:only-of-type {\n",
       "        vertical-align: middle;\n",
       "    }\n",
       "\n",
       "    .dataframe tbody tr th {\n",
       "        vertical-align: top;\n",
       "    }\n",
       "\n",
       "    .dataframe thead th {\n",
       "        text-align: right;\n",
       "    }\n",
       "</style>\n",
       "<table border=\"1\" class=\"dataframe\">\n",
       "  <thead>\n",
       "    <tr style=\"text-align: right;\">\n",
       "      <th></th>\n",
       "      <th>year</th>\n",
       "      <th>genre</th>\n",
       "      <th>duration</th>\n",
       "      <th>country</th>\n",
       "      <th>avg_vote</th>\n",
       "      <th>critics_vote</th>\n",
       "      <th>public_vote</th>\n",
       "      <th>total_votes</th>\n",
       "      <th>humor</th>\n",
       "      <th>rhythm</th>\n",
       "      <th>effort</th>\n",
       "      <th>tension</th>\n",
       "      <th>erotism</th>\n",
       "      <th>boolHumor</th>\n",
       "    </tr>\n",
       "  </thead>\n",
       "  <tbody>\n",
       "    <tr>\n",
       "      <th>count</th>\n",
       "      <td>37711.000000</td>\n",
       "      <td>37711.000000</td>\n",
       "      <td>37711.000000</td>\n",
       "      <td>37711.000000</td>\n",
       "      <td>37711.000000</td>\n",
       "      <td>37711.000000</td>\n",
       "      <td>37711.000000</td>\n",
       "      <td>37711.000000</td>\n",
       "      <td>37711.000000</td>\n",
       "      <td>37711.000000</td>\n",
       "      <td>37711.000000</td>\n",
       "      <td>37711.000000</td>\n",
       "      <td>37711.000000</td>\n",
       "      <td>37711.000000</td>\n",
       "    </tr>\n",
       "    <tr>\n",
       "      <th>mean</th>\n",
       "      <td>1992.236244</td>\n",
       "      <td>4.913580</td>\n",
       "      <td>100.644666</td>\n",
       "      <td>80.690382</td>\n",
       "      <td>5.840516</td>\n",
       "      <td>5.855366</td>\n",
       "      <td>5.963777</td>\n",
       "      <td>35.462968</td>\n",
       "      <td>0.597544</td>\n",
       "      <td>1.422052</td>\n",
       "      <td>0.702395</td>\n",
       "      <td>0.962557</td>\n",
       "      <td>0.301000</td>\n",
       "      <td>0.170640</td>\n",
       "    </tr>\n",
       "    <tr>\n",
       "      <th>std</th>\n",
       "      <td>23.404296</td>\n",
       "      <td>4.572401</td>\n",
       "      <td>27.061535</td>\n",
       "      <td>259.965632</td>\n",
       "      <td>1.412866</td>\n",
       "      <td>1.516289</td>\n",
       "      <td>1.486530</td>\n",
       "      <td>65.872978</td>\n",
       "      <td>0.897430</td>\n",
       "      <td>1.120866</td>\n",
       "      <td>1.109600</td>\n",
       "      <td>1.085195</td>\n",
       "      <td>0.614126</td>\n",
       "      <td>0.376199</td>\n",
       "    </tr>\n",
       "    <tr>\n",
       "      <th>min</th>\n",
       "      <td>1897.000000</td>\n",
       "      <td>0.000000</td>\n",
       "      <td>41.000000</td>\n",
       "      <td>0.000000</td>\n",
       "      <td>1.000000</td>\n",
       "      <td>1.000000</td>\n",
       "      <td>1.000000</td>\n",
       "      <td>1.000000</td>\n",
       "      <td>0.000000</td>\n",
       "      <td>0.000000</td>\n",
       "      <td>0.000000</td>\n",
       "      <td>0.000000</td>\n",
       "      <td>0.000000</td>\n",
       "      <td>0.000000</td>\n",
       "    </tr>\n",
       "    <tr>\n",
       "      <th>25%</th>\n",
       "      <td>1975.000000</td>\n",
       "      <td>1.000000</td>\n",
       "      <td>90.000000</td>\n",
       "      <td>0.000000</td>\n",
       "      <td>4.900000</td>\n",
       "      <td>5.000000</td>\n",
       "      <td>5.000000</td>\n",
       "      <td>5.000000</td>\n",
       "      <td>0.000000</td>\n",
       "      <td>0.000000</td>\n",
       "      <td>0.000000</td>\n",
       "      <td>0.000000</td>\n",
       "      <td>0.000000</td>\n",
       "      <td>0.000000</td>\n",
       "    </tr>\n",
       "    <tr>\n",
       "      <th>50%</th>\n",
       "      <td>2000.000000</td>\n",
       "      <td>3.000000</td>\n",
       "      <td>96.000000</td>\n",
       "      <td>1.000000</td>\n",
       "      <td>6.000000</td>\n",
       "      <td>6.000000</td>\n",
       "      <td>6.000000</td>\n",
       "      <td>11.000000</td>\n",
       "      <td>0.000000</td>\n",
       "      <td>2.000000</td>\n",
       "      <td>0.000000</td>\n",
       "      <td>1.000000</td>\n",
       "      <td>0.000000</td>\n",
       "      <td>0.000000</td>\n",
       "    </tr>\n",
       "    <tr>\n",
       "      <th>75%</th>\n",
       "      <td>2012.000000</td>\n",
       "      <td>7.000000</td>\n",
       "      <td>107.000000</td>\n",
       "      <td>15.000000</td>\n",
       "      <td>6.900000</td>\n",
       "      <td>7.000000</td>\n",
       "      <td>7.000000</td>\n",
       "      <td>34.000000</td>\n",
       "      <td>1.000000</td>\n",
       "      <td>2.000000</td>\n",
       "      <td>1.000000</td>\n",
       "      <td>2.000000</td>\n",
       "      <td>0.000000</td>\n",
       "      <td>0.000000</td>\n",
       "    </tr>\n",
       "    <tr>\n",
       "      <th>max</th>\n",
       "      <td>2021.000000</td>\n",
       "      <td>26.000000</td>\n",
       "      <td>1525.000000</td>\n",
       "      <td>1872.000000</td>\n",
       "      <td>10.000000</td>\n",
       "      <td>10.000000</td>\n",
       "      <td>10.000000</td>\n",
       "      <td>1010.000000</td>\n",
       "      <td>5.000000</td>\n",
       "      <td>5.000000</td>\n",
       "      <td>5.000000</td>\n",
       "      <td>5.000000</td>\n",
       "      <td>4.000000</td>\n",
       "      <td>1.000000</td>\n",
       "    </tr>\n",
       "  </tbody>\n",
       "</table>\n",
       "</div>"
      ],
      "text/plain": [
       "               year         genre      duration       country      avg_vote  \\\n",
       "count  37711.000000  37711.000000  37711.000000  37711.000000  37711.000000   \n",
       "mean    1992.236244      4.913580    100.644666     80.690382      5.840516   \n",
       "std       23.404296      4.572401     27.061535    259.965632      1.412866   \n",
       "min     1897.000000      0.000000     41.000000      0.000000      1.000000   \n",
       "25%     1975.000000      1.000000     90.000000      0.000000      4.900000   \n",
       "50%     2000.000000      3.000000     96.000000      1.000000      6.000000   \n",
       "75%     2012.000000      7.000000    107.000000     15.000000      6.900000   \n",
       "max     2021.000000     26.000000   1525.000000   1872.000000     10.000000   \n",
       "\n",
       "       critics_vote   public_vote   total_votes         humor        rhythm  \\\n",
       "count  37711.000000  37711.000000  37711.000000  37711.000000  37711.000000   \n",
       "mean       5.855366      5.963777     35.462968      0.597544      1.422052   \n",
       "std        1.516289      1.486530     65.872978      0.897430      1.120866   \n",
       "min        1.000000      1.000000      1.000000      0.000000      0.000000   \n",
       "25%        5.000000      5.000000      5.000000      0.000000      0.000000   \n",
       "50%        6.000000      6.000000     11.000000      0.000000      2.000000   \n",
       "75%        7.000000      7.000000     34.000000      1.000000      2.000000   \n",
       "max       10.000000     10.000000   1010.000000      5.000000      5.000000   \n",
       "\n",
       "             effort       tension       erotism     boolHumor  \n",
       "count  37711.000000  37711.000000  37711.000000  37711.000000  \n",
       "mean       0.702395      0.962557      0.301000      0.170640  \n",
       "std        1.109600      1.085195      0.614126      0.376199  \n",
       "min        0.000000      0.000000      0.000000      0.000000  \n",
       "25%        0.000000      0.000000      0.000000      0.000000  \n",
       "50%        0.000000      1.000000      0.000000      0.000000  \n",
       "75%        1.000000      2.000000      0.000000      0.000000  \n",
       "max        5.000000      5.000000      4.000000      1.000000  "
      ]
     },
     "execution_count": 14,
     "metadata": {},
     "output_type": "execute_result"
    }
   ],
   "source": [
    "# нормализация\n",
    "data_stand = (data - data.mean(axis = 0))/data.std(axis = 0)\n",
    "data.describe()"
   ]
  },
  {
   "cell_type": "markdown",
   "metadata": {},
   "source": [
    "# 2. Разбиваем данные на обучающую и тестовую выборки"
   ]
  },
  {
   "cell_type": "code",
   "execution_count": 16,
   "metadata": {},
   "outputs": [
    {
     "data": {
      "text/plain": [
       "Index(['year', 'genre', 'duration', 'country', 'avg_vote', 'critics_vote',\n",
       "       'public_vote', 'total_votes', 'humor', 'rhythm', 'effort', 'tension',\n",
       "       'erotism', 'boolHumor'],\n",
       "      dtype='object')"
      ]
     },
     "execution_count": 16,
     "metadata": {},
     "output_type": "execute_result"
    }
   ],
   "source": [
    "data.columns"
   ]
  },
  {
   "cell_type": "code",
   "execution_count": 17,
   "metadata": {},
   "outputs": [],
   "source": [
    "X = data_stand.drop(['humor',  'boolHumor'], axis=1)\n",
    "y = data['humor']"
   ]
  },
  {
   "cell_type": "code",
   "execution_count": 18,
   "metadata": {},
   "outputs": [
    {
     "data": {
      "text/html": [
       "<div>\n",
       "<style scoped>\n",
       "    .dataframe tbody tr th:only-of-type {\n",
       "        vertical-align: middle;\n",
       "    }\n",
       "\n",
       "    .dataframe tbody tr th {\n",
       "        vertical-align: top;\n",
       "    }\n",
       "\n",
       "    .dataframe thead th {\n",
       "        text-align: right;\n",
       "    }\n",
       "</style>\n",
       "<table border=\"1\" class=\"dataframe\">\n",
       "  <thead>\n",
       "    <tr style=\"text-align: right;\">\n",
       "      <th></th>\n",
       "      <th>year</th>\n",
       "      <th>genre</th>\n",
       "      <th>duration</th>\n",
       "      <th>country</th>\n",
       "      <th>avg_vote</th>\n",
       "      <th>critics_vote</th>\n",
       "      <th>public_vote</th>\n",
       "      <th>total_votes</th>\n",
       "      <th>rhythm</th>\n",
       "      <th>effort</th>\n",
       "      <th>tension</th>\n",
       "      <th>erotism</th>\n",
       "    </tr>\n",
       "  </thead>\n",
       "  <tbody>\n",
       "    <tr>\n",
       "      <th>0</th>\n",
       "      <td>-0.437366</td>\n",
       "      <td>-1.074617</td>\n",
       "      <td>-0.910690</td>\n",
       "      <td>-0.310389</td>\n",
       "      <td>1.316108</td>\n",
       "      <td>1.414397</td>\n",
       "      <td>0.697075</td>\n",
       "      <td>-0.219558</td>\n",
       "      <td>1.407793</td>\n",
       "      <td>-0.633016</td>\n",
       "      <td>-0.886990</td>\n",
       "      <td>-0.490127</td>\n",
       "    </tr>\n",
       "    <tr>\n",
       "      <th>1</th>\n",
       "      <td>-0.052821</td>\n",
       "      <td>-0.855913</td>\n",
       "      <td>-0.097728</td>\n",
       "      <td>-0.306542</td>\n",
       "      <td>0.466770</td>\n",
       "      <td>0.095387</td>\n",
       "      <td>0.697075</td>\n",
       "      <td>-0.477631</td>\n",
       "      <td>0.515626</td>\n",
       "      <td>-0.633016</td>\n",
       "      <td>0.955996</td>\n",
       "      <td>-0.490127</td>\n",
       "    </tr>\n",
       "    <tr>\n",
       "      <th>2</th>\n",
       "      <td>-0.693729</td>\n",
       "      <td>-0.637210</td>\n",
       "      <td>-0.356398</td>\n",
       "      <td>-0.310389</td>\n",
       "      <td>-0.170233</td>\n",
       "      <td>0.095387</td>\n",
       "      <td>-0.648340</td>\n",
       "      <td>-0.401727</td>\n",
       "      <td>0.515626</td>\n",
       "      <td>0.268210</td>\n",
       "      <td>-0.886990</td>\n",
       "      <td>-0.490127</td>\n",
       "    </tr>\n",
       "    <tr>\n",
       "      <th>3</th>\n",
       "      <td>-0.437366</td>\n",
       "      <td>-0.418507</td>\n",
       "      <td>-0.208586</td>\n",
       "      <td>-0.310389</td>\n",
       "      <td>0.820661</td>\n",
       "      <td>1.414397</td>\n",
       "      <td>0.024367</td>\n",
       "      <td>-0.265101</td>\n",
       "      <td>0.515626</td>\n",
       "      <td>-0.633016</td>\n",
       "      <td>0.034503</td>\n",
       "      <td>2.766534</td>\n",
       "    </tr>\n",
       "    <tr>\n",
       "      <th>4</th>\n",
       "      <td>-2.146454</td>\n",
       "      <td>-0.418507</td>\n",
       "      <td>-0.578115</td>\n",
       "      <td>-0.306542</td>\n",
       "      <td>0.042102</td>\n",
       "      <td>-0.346481</td>\n",
       "      <td>0.697075</td>\n",
       "      <td>-0.325824</td>\n",
       "      <td>-0.376541</td>\n",
       "      <td>0.268210</td>\n",
       "      <td>-0.886990</td>\n",
       "      <td>-0.490127</td>\n",
       "    </tr>\n",
       "  </tbody>\n",
       "</table>\n",
       "</div>"
      ],
      "text/plain": [
       "       year     genre  duration   country  avg_vote  critics_vote  \\\n",
       "0 -0.437366 -1.074617 -0.910690 -0.310389  1.316108      1.414397   \n",
       "1 -0.052821 -0.855913 -0.097728 -0.306542  0.466770      0.095387   \n",
       "2 -0.693729 -0.637210 -0.356398 -0.310389 -0.170233      0.095387   \n",
       "3 -0.437366 -0.418507 -0.208586 -0.310389  0.820661      1.414397   \n",
       "4 -2.146454 -0.418507 -0.578115 -0.306542  0.042102     -0.346481   \n",
       "\n",
       "   public_vote  total_votes    rhythm    effort   tension   erotism  \n",
       "0     0.697075    -0.219558  1.407793 -0.633016 -0.886990 -0.490127  \n",
       "1     0.697075    -0.477631  0.515626 -0.633016  0.955996 -0.490127  \n",
       "2    -0.648340    -0.401727  0.515626  0.268210 -0.886990 -0.490127  \n",
       "3     0.024367    -0.265101  0.515626 -0.633016  0.034503  2.766534  \n",
       "4     0.697075    -0.325824 -0.376541  0.268210 -0.886990 -0.490127  "
      ]
     },
     "execution_count": 18,
     "metadata": {},
     "output_type": "execute_result"
    }
   ],
   "source": [
    "X.head()"
   ]
  },
  {
   "cell_type": "code",
   "execution_count": 19,
   "metadata": {},
   "outputs": [
    {
     "data": {
      "text/plain": [
       "(25266, 12445)"
      ]
     },
     "execution_count": 19,
     "metadata": {},
     "output_type": "execute_result"
    }
   ],
   "source": [
    "from sklearn.model_selection import train_test_split\n",
    "X_train, X_test, y_train, y_test = train_test_split(X, y, test_size = 0.33, random_state = 42)\n",
    "\n",
    "N_train, _ = X_train.shape \n",
    "N_test,  _ = X_test.shape\n",
    "\n",
    "N_train, N_test"
   ]
  },
  {
   "cell_type": "markdown",
   "metadata": {},
   "source": [
    "Подбор гиперпараметров"
   ]
  },
  {
   "cell_type": "code",
   "execution_count": 20,
   "metadata": {},
   "outputs": [],
   "source": [
    "from sklearn.neural_network import MLPClassifier\n",
    "from sklearn.metrics import accuracy_score\n",
    "from tqdm import tqdm"
   ]
  },
  {
   "cell_type": "markdown",
   "metadata": {},
   "source": [
    "Подбор нейронов в однослойной сети. "
   ]
  },
  {
   "cell_type": "code",
   "execution_count": 21,
   "metadata": {},
   "outputs": [
    {
     "name": "stderr",
     "output_type": "stream",
     "text": [
      "100%|██████████████████████████████████████████████████████████████████████████████████| 50/50 [16:54<00:00, 20.28s/it]\n"
     ]
    }
   ],
   "source": [
    "hidden_layer_size = np.linspace(1, 50, 50)\n",
    "hidden_layer_size = hidden_layer_size.astype(int)\n",
    "test_err, train_err = [], []\n",
    "train_acc, test_acc = [], []\n",
    "\n",
    "for size in tqdm(hidden_layer_size):\n",
    "    model = MLPClassifier(hidden_layer_sizes=(size,), \n",
    "                          solver='adam', activation='relu', max_iter=1000, random_state=42)\n",
    "    model.fit(X_train, y_train)\n",
    "\n",
    "    y_train_pred = model.predict(X_train)\n",
    "    y_test_pred = model.predict(X_test)\n",
    "    \n",
    "    train_err.append(np.mean(y_train != y_train_pred))\n",
    "    test_err.append(np.mean(y_test != y_test_pred))\n",
    "    \n",
    "    train_acc.append(accuracy_score(y_train, y_train_pred))\n",
    "    test_acc.append(accuracy_score(y_test, y_test_pred))"
   ]
  },
  {
   "cell_type": "code",
   "execution_count": 22,
   "metadata": {},
   "outputs": [
    {
     "data": {
      "text/plain": [
       "<matplotlib.legend.Legend at 0x1cbaa26e820>"
      ]
     },
     "execution_count": 22,
     "metadata": {},
     "output_type": "execute_result"
    },
    {
     "data": {
      "image/png": "[encoded data removed]",
      "text/plain": [
       "<Figure size 432x288 with 1 Axes>"
      ]
     },
     "metadata": {
      "needs_background": "light"
     },
     "output_type": "display_data"
    }
   ],
   "source": [
    "plt.plot(hidden_layer_size, train_err, 'b-o', label = 'train')\n",
    "plt.plot(hidden_layer_size, test_err, 'r-o', label = 'test')\n",
    "plt.xlim([np.min(hidden_layer_size), np.max(hidden_layer_size)])\n",
    "plt.title('Error is as a function of hidden_layer_size')\n",
    "plt.xlabel('hidden_layer_size')\n",
    "plt.ylabel('error')\n",
    "plt.legend()"
   ]
  },
  {
   "cell_type": "code",
   "execution_count": 23,
   "metadata": {},
   "outputs": [
    {
     "name": "stdout",
     "output_type": "stream",
     "text": [
      "Train: Min error=0.2387002295575081, number of neurons=49\n",
      "Test: Min error=0.24403374849337084, number of neurons=14\n"
     ]
    }
   ],
   "source": [
    "\n",
    "print(\"Train: Min error={0}, number of neurons={1}\".format(np.min(train_err), hidden_layer_size[np.argmin(train_err)]))\n",
    "print(\"Test: Min error={0}, number of neurons={1}\".format(np.min(test_err), hidden_layer_size[np.argmin(test_err)]))"
   ]
  },
  {
   "cell_type": "code",
   "execution_count": 24,
   "metadata": {},
   "outputs": [
    {
     "data": {
      "text/plain": [
       "<matplotlib.legend.Legend at 0x1cbaa3288b0>"
      ]
     },
     "execution_count": 24,
     "metadata": {},
     "output_type": "execute_result"
    },
    {
     "data": {
      "image/png": "[encoded data removed]",
      "text/plain": [
       "<Figure size 432x288 with 1 Axes>"
      ]
     },
     "metadata": {
      "needs_background": "light"
     },
     "output_type": "display_data"
    }
   ],
   "source": [
    "plt.plot(hidden_layer_size, train_acc, 'r-o', label = 'train')\n",
    "plt.plot(hidden_layer_size, test_acc, 'b-o', label = 'test')\n",
    "plt.xlim([np.min(hidden_layer_size), np.max(hidden_layer_size)])\n",
    "plt.title('Accuracy is a function of hidden_layer_size')\n",
    "plt.xlabel('hidden_layer_size')\n",
    "plt.ylabel('Accuracy')\n",
    "plt.legend()"
   ]
  },
  {
   "cell_type": "code",
   "execution_count": 25,
   "metadata": {},
   "outputs": [
    {
     "name": "stdout",
     "output_type": "stream",
     "text": [
      "Train: max accuracy=0.7612997704424919, number of neurons=49\n",
      "Test: max accuracy=0.7559662515066292, number of neurons=14\n"
     ]
    }
   ],
   "source": [
    "print(\"Train: max accuracy={0}, number of neurons={1}\".format(np.max(train_acc), hidden_layer_size[np.argmax(train_acc)]))\n",
    "print(\"Test: max accuracy={0}, number of neurons={1}\".format(np.max(test_acc), hidden_layer_size[np.argmax(test_acc)]))"
   ]
  },
  {
   "cell_type": "markdown",
   "metadata": {},
   "source": [
    "Подборка количества нейронов для двуслойной сети"
   ]
  },
  {
   "cell_type": "code",
   "execution_count": 26,
   "metadata": {},
   "outputs": [
    {
     "name": "stderr",
     "output_type": "stream",
     "text": [
      "10it [47:40, 286.08s/it]\n"
     ]
    }
   ],
   "source": [
    "n = 10\n",
    "sizes = np.linspace(1, 50, n).astype(int)\n",
    "test_err = np.zeros((n, n))\n",
    "train_err = np.zeros((n, n))\n",
    "train_acc = np.zeros((n, n))\n",
    "test_acc = np.zeros((n, n))\n",
    "\n",
    "for i, size_1 in tqdm(enumerate(sizes)):\n",
    "    for j, size_2 in enumerate(sizes):\n",
    "        model = MLPClassifier(hidden_layer_sizes=(size_1, size_2, ), \n",
    "                              solver='adam', activation='relu', max_iter=1000, random_state=42)\n",
    "        model.fit(X_train, y_train)\n",
    "\n",
    "        y_train_pred = model.predict(X_train)\n",
    "        y_test_pred = model.predict(X_test)\n",
    "\n",
    "        train_err[i][j] = np.mean(y_train != y_train_pred)\n",
    "        test_err[i][j] = np.mean(y_test != y_test_pred)\n",
    "\n",
    "        train_acc[i][j] = accuracy_score(y_train, y_train_pred)\n",
    "        test_acc[i][j] = accuracy_score(y_test, y_test_pred)"
   ]
  },
  {
   "cell_type": "code",
   "execution_count": 27,
   "metadata": {},
   "outputs": [
    {
     "data": {
      "image/png": "[encoded data removed]",
      "text/plain": [
       "<Figure size 432x288 with 3 Axes>"
      ]
     },
     "metadata": {
      "needs_background": "light"
     },
     "output_type": "display_data"
    }
   ],
   "source": [
    "plt.subplot(121)\n",
    "plt.title(\"Train error\")\n",
    "plt.imshow(train_err)\n",
    "plt.xticks(np.arange(n), np.arange(1, 50, 50 / n))\n",
    "plt.yticks(np.arange(n), np.arange(1, 50, 50 / n))\n",
    "\n",
    "plt.subplot(122)\n",
    "plt.title(\"Test error\")\n",
    "plt.imshow(test_err)\n",
    "plt.xticks(np.arange(n), np.arange(1, 50, 50 / n))\n",
    "plt.yticks(np.arange(n), np.arange(1, 50, 50 / n))\n",
    "\n",
    "cax = plt.axes([0.96, 0.15, 0.02, 0.7])\n",
    "plt.colorbar(cax=cax)\n",
    "\n",
    "train_min_loss = np.where(train_err == np.min(train_err))\n",
    "test_min_loss = np.where(test_err == np.min(test_err))\n",
    "\n",
    "train_min_loss_sizes = [train_min_loss[0][0] * 5, train_min_loss[1][0] * 5]\n",
    "test_min_loss_sizes = [test_min_loss[0][0] * 5, test_min_loss[1][0] * 5]"
   ]
  },
  {
   "cell_type": "code",
   "execution_count": 28,
   "metadata": {},
   "outputs": [
    {
     "name": "stdout",
     "output_type": "stream",
     "text": [
      "Train: Min error=0.20612681073379244, number of neurons=45,45\n",
      "Test: error=0.2593009240658899, number of neurons=45,45\n",
      "\n",
      "Test: Min error=0.2454801124949779, number of neurons=10,5\n",
      "Train: error=0.2522362067600728, number of neurons=10,5\n",
      "\n"
     ]
    }
   ],
   "source": [
    "print(\"Train: Min error={0}, number of neurons={1},{2}\".format(np.min(train_err), train_min_loss_sizes[0], train_min_loss_sizes[1]))\n",
    "print(\"Test: error={0}, number of neurons={1},{2}\\n\".format(test_err[train_min_loss][0], train_min_loss_sizes[0], train_min_loss_sizes[1]))\n",
    "print(\"Test: Min error={0}, number of neurons={1},{2}\".format(np.min(test_err), test_min_loss_sizes[0], test_min_loss_sizes[1]))\n",
    "print(\"Train: error={0}, number of neurons={1},{2}\\n\".format(train_err[test_min_loss][0], test_min_loss_sizes[0], test_min_loss_sizes[1]))"
   ]
  },
  {
   "cell_type": "code",
   "execution_count": 29,
   "metadata": {},
   "outputs": [
    {
     "data": {
      "image/png": "[encoded data removed]",
      "text/plain": [
       "<Figure size 432x288 with 3 Axes>"
      ]
     },
     "metadata": {
      "needs_background": "light"
     },
     "output_type": "display_data"
    }
   ],
   "source": [
    "plt.subplot(121)\n",
    "plt.title(\"Train accuracy\")\n",
    "plt.imshow(train_acc)\n",
    "plt.xticks(np.arange(n), np.arange(1, 50, 50 / n))\n",
    "plt.yticks(np.arange(n), np.arange(1, 50, 50 / n))\n",
    "\n",
    "plt.subplot(122)\n",
    "plt.title(\"Test accuracy\")\n",
    "plt.imshow(test_acc)\n",
    "plt.xticks(np.arange(n), np.arange(1, 50, 50 / n))\n",
    "plt.yticks(np.arange(n), np.arange(1, 50, 50 / n))\n",
    "\n",
    "cax = plt.axes([0.95, 0.15, 0.02, 0.7])\n",
    "plt.colorbar(cax=cax)\n",
    "\n",
    "train_max_acc = np.where(train_acc == np.max(train_acc))\n",
    "test_max_acc = np.where(test_acc == np.max(test_acc))\n",
    "\n",
    "train_max_acc_sizes = [train_max_acc[0][0] * 5, train_max_acc[1][0] * 5]\n",
    "test_max_acc_sizes = [test_max_acc[0][0] * 5, test_max_acc[1][0] * 5]"
   ]
  },
  {
   "cell_type": "code",
   "execution_count": 30,
   "metadata": {},
   "outputs": [
    {
     "name": "stdout",
     "output_type": "stream",
     "text": [
      "Train: Max accuracy=0.7938731892662075, number of neurons=45,45\n",
      "Test: accuracy=0.7406990759341101, number of neurons=45,45\n",
      "\n",
      "Test: Max accuracy=0.7545198875050221, number of neurons=10,5\n",
      "Train: accuracy=0.7477637932399271, number of neurons=10,5\n",
      "\n"
     ]
    }
   ],
   "source": [
    "print(\"Train: Max accuracy={0}, number of neurons={1},{2}\".format(np.max(train_acc), train_max_acc_sizes[0], train_max_acc_sizes[1]))\n",
    "print(\"Test: accuracy={0}, number of neurons={1},{2}\\n\".format(test_acc[train_max_acc][0], train_max_acc_sizes[0], train_max_acc_sizes[1]))\n",
    "print(\"Test: Max accuracy={0}, number of neurons={1},{2}\".format(np.max(test_acc), test_max_acc_sizes[0], test_max_acc_sizes[1]))\n",
    "print(\"Train: accuracy={0}, number of neurons={1},{2}\\n\".format(train_acc[test_max_acc][0], test_max_acc_sizes[0], test_max_acc_sizes[1]))"
   ]
  },
  {
   "cell_type": "markdown",
   "metadata": {},
   "source": [
    "Лучшие показатели подемонстрировала сеть из 2-ух слоев (точность на тестовой и обучающей выборке у неё немного выше). Самая оптимальная точность достигается при количесте нейронов (45,45). Будем подбирать параметры alpha для сети из 2-ух слоёв."
   ]
  },
  {
   "cell_type": "code",
   "execution_count": 31,
   "metadata": {},
   "outputs": [
    {
     "name": "stderr",
     "output_type": "stream",
     "text": [
      "100%|██████████████████████████████████████████████████████████████████████████████████| 50/50 [16:35<00:00, 19.90s/it]\n"
     ]
    }
   ],
   "source": [
    "alpha_arr = np.logspace(-3, 2, 50)\n",
    "test_err = []\n",
    "train_err = []\n",
    "train_acc = []\n",
    "test_acc = []\n",
    "\n",
    "for alpha in tqdm(alpha_arr):\n",
    "    mlp_model = MLPClassifier(alpha=alpha, hidden_layer_sizes=(30,40),\n",
    "                              solver='adam', activation='relu', max_iter=1000, random_state=42)\n",
    "    mlp_model.fit(X_train, y_train)\n",
    "\n",
    "    y_train_pred = mlp_model.predict(X_train)\n",
    "    y_test_pred = mlp_model.predict(X_test)\n",
    "\n",
    "    train_err.append(np.mean(y_train != y_train_pred))\n",
    "    test_err.append(np.mean(y_test != y_test_pred))\n",
    "    train_acc.append(accuracy_score(y_train, y_train_pred))\n",
    "    test_acc.append(accuracy_score(y_test, y_test_pred))"
   ]
  },
  {
   "cell_type": "code",
   "execution_count": 32,
   "metadata": {},
   "outputs": [
    {
     "data": {
      "text/plain": [
       "<matplotlib.legend.Legend at 0x1cbaad8f370>"
      ]
     },
     "execution_count": 32,
     "metadata": {},
     "output_type": "execute_result"
    },
    {
     "data": {
      "image/png": "[encoded data removed]",
      "text/plain": [
       "<Figure size 432x288 with 1 Axes>"
      ]
     },
     "metadata": {
      "needs_background": "light"
     },
     "output_type": "display_data"
    }
   ],
   "source": [
    "plt.semilogx(alpha_arr, train_err, 'b-o', label = 'train')\n",
    "plt.semilogx(alpha_arr, test_err, 'r-o', label = 'test')\n",
    "plt.xlim([np.min(alpha_arr), np.max(alpha_arr)])\n",
    "plt.title('Error vs. alpha')\n",
    "plt.xlabel('alpha')\n",
    "plt.ylabel('error')\n",
    "plt.legend()"
   ]
  },
  {
   "cell_type": "code",
   "execution_count": 33,
   "metadata": {},
   "outputs": [
    {
     "data": {
      "text/plain": [
       "<matplotlib.legend.Legend at 0x1cbaac68d30>"
      ]
     },
     "execution_count": 33,
     "metadata": {},
     "output_type": "execute_result"
    },
    {
     "data": {
      "image/png": "[encoded data removed]",
      "text/plain": [
       "<Figure size 432x288 with 1 Axes>"
      ]
     },
     "metadata": {
      "needs_background": "light"
     },
     "output_type": "display_data"
    }
   ],
   "source": [
    "plt.semilogx(alpha_arr, train_acc, 'b-o', label = 'train')\n",
    "plt.semilogx(alpha_arr, test_acc, 'r-o', label = 'test')\n",
    "plt.xlim([np.min(alpha_arr), np.max(alpha_arr)])\n",
    "plt.title('Accuracy vs. alpha')\n",
    "plt.xlabel('alpha')\n",
    "plt.ylabel('Accuracy')\n",
    "plt.legend()"
   ]
  },
  {
   "cell_type": "code",
   "execution_count": 34,
   "metadata": {},
   "outputs": [
    {
     "name": "stderr",
     "output_type": "stream",
     "text": [
      "100%|██████████████████████████████████████████████████████████████████████████████████| 50/50 [08:19<00:00,  9.99s/it]\n"
     ]
    }
   ],
   "source": [
    "alpha_arr2 = np.logspace(-3, 2, 50)\n",
    "test_err2 = []\n",
    "train_err2 = []\n",
    "train_acc2 = []\n",
    "test_acc2 = []\n",
    "\n",
    "for alpha in tqdm(alpha_arr2):\n",
    "    mlp_model = MLPClassifier(alpha=alpha, hidden_layer_sizes=(10,),\n",
    "                              solver='adam', activation='relu', max_iter=1000, random_state=42)\n",
    "    mlp_model.fit(X_train, y_train)\n",
    "\n",
    "    y_train_pred = mlp_model.predict(X_train)\n",
    "    y_test_pred = mlp_model.predict(X_test)\n",
    "\n",
    "    train_err2.append(np.mean(y_train != y_train_pred))\n",
    "    test_err2.append(np.mean(y_test != y_test_pred))\n",
    "    train_acc2.append(accuracy_score(y_train, y_train_pred))\n",
    "    test_acc2.append(accuracy_score(y_test, y_test_pred))"
   ]
  },
  {
   "cell_type": "code",
   "execution_count": 36,
   "metadata": {},
   "outputs": [
    {
     "data": {
      "text/plain": [
       "<matplotlib.legend.Legend at 0x1cbab0cacd0>"
      ]
     },
     "execution_count": 36,
     "metadata": {},
     "output_type": "execute_result"
    },
    {
     "data": {
      "image/png": "[encoded data removed]",
      "text/plain": [
       "<Figure size 432x288 with 1 Axes>"
      ]
     },
     "metadata": {
      "needs_background": "light"
     },
     "output_type": "display_data"
    }
   ],
   "source": [
    "plt.semilogx(alpha_arr2, train_err2, 'b-o', label = 'train')\n",
    "plt.semilogx(alpha_arr2, test_err2, 'r-o', label = 'test')\n",
    "plt.xlim([np.min(alpha_arr2), np.max(alpha_arr2)])\n",
    "plt.title('Error vs. alpha')\n",
    "plt.xlabel('alpha')\n",
    "plt.ylabel('error')\n",
    "plt.legend()"
   ]
  },
  {
   "cell_type": "code",
   "execution_count": 37,
   "metadata": {},
   "outputs": [
    {
     "data": {
      "text/plain": [
       "<matplotlib.legend.Legend at 0x1cbaaf54ac0>"
      ]
     },
     "execution_count": 37,
     "metadata": {},
     "output_type": "execute_result"
    },
    {
     "data": {
      "image/png": "[encoded data removed]",
      "text/plain": [
       "<Figure size 432x288 with 1 Axes>"
      ]
     },
     "metadata": {
      "needs_background": "light"
     },
     "output_type": "display_data"
    }
   ],
   "source": [
    "plt.semilogx(alpha_arr2, train_acc2, 'b-o', label = 'train')\n",
    "plt.semilogx(alpha_arr2, test_acc2, 'r-o', label = 'test')\n",
    "plt.xlim([np.min(alpha_arr2), np.max(alpha_arr2)])\n",
    "plt.title('Accuracy vs. alpha')\n",
    "plt.xlabel('alpha')\n",
    "plt.ylabel('Accuracy')\n",
    "plt.legend()"
   ]
  },
  {
   "cell_type": "code",
   "execution_count": 42,
   "metadata": {},
   "outputs": [
    {
     "name": "stdout",
     "output_type": "stream",
     "text": [
      "Alpha o: 2\n"
     ]
    }
   ],
   "source": [
    "alpha_opt = 2\n",
    "print(\"Alpha o:\", alpha_opt)"
   ]
  },
  {
   "cell_type": "markdown",
   "metadata": {},
   "source": [
    "Классификатор при найденном alpha."
   ]
  },
  {
   "cell_type": "code",
   "execution_count": 43,
   "metadata": {},
   "outputs": [],
   "source": [
    "mlp_model = MLPClassifier(alpha=alpha_opt, hidden_layer_sizes=(20,),\n",
    "                          solver='adam', activation='relu', random_state=42)\n",
    "mlp_model.fit(X_train, y_train)\n",
    "\n",
    "y_train_pred = mlp_model.predict(X_train)\n",
    "y_test_pred = mlp_model.predict(X_test)\n"
   ]
  },
  {
   "cell_type": "markdown",
   "metadata": {},
   "source": [
    "Матрица рассогласования."
   ]
  },
  {
   "cell_type": "code",
   "execution_count": 44,
   "metadata": {},
   "outputs": [
    {
     "name": "stdout",
     "output_type": "stream",
     "text": [
      "[[7329 1275  500   87    5    0]\n",
      " [ 438  964  492  139   20    0]\n",
      " [  98  254  504  231   37    0]\n",
      " [   2   10    9   30   20    1]\n",
      " [   0    0    0    0    0    0]\n",
      " [   0    0    0    0    0    0]]\n"
     ]
    }
   ],
   "source": [
    "from sklearn.metrics import confusion_matrix\n",
    "print(confusion_matrix(y_test_pred, y_test))"
   ]
  },
  {
   "cell_type": "code",
   "execution_count": 45,
   "metadata": {},
   "outputs": [
    {
     "data": {
      "image/png": "[encoded data removed]",
      "text/plain": [
       "<Figure size 432x288 with 2 Axes>"
      ]
     },
     "metadata": {
      "needs_background": "light"
     },
     "output_type": "display_data"
    }
   ],
   "source": [
    "from sklearn.metrics import plot_confusion_matrix\n",
    "plot_confusion_matrix(mlp_model, X_test, y_test) \n",
    "plt.show()"
   ]
  },
  {
   "cell_type": "markdown",
   "metadata": {},
   "source": [
    "# Выводы"
   ]
  },
  {
   "cell_type": "markdown",
   "metadata": {},
   "source": [
    "1. Подбор числа нейронов в однослойной модели\n",
    "1) Почти одинаковое распределение тренировочных и тестовых данных.\n",
    "2) Наблюдается переобучение. \n",
    "3) При количестве нейровнов в слое больше 2 уже достигается точность выше 75%. Это говорит о том, что все входные объекты могут быть спроецированы в двумерное пространство и разделены на классы с высокой точностью 75%.\n",
    "\n",
    "2. Подбор числа нейронов в двуслойной модели\n",
    "1) Наблюдается недообучение тренировочной выборки.\n",
    "\n",
    "3. Подбор параметра регуляризации\n",
    "С ростом коэффициента регуляризации растёт ошибка и снижается точность. Это говорит о том, что после обучения у модели не возникает больших значений весовых коэффициентов, а значит нет переобучения. При alpha > 10e-1 начинается рост ошибки и снижение точности, то есть с ростом alpha веса модели уменьшаются и стремятся к нулю. "
   ]
  }
 ],
 "metadata": {
  "kernelspec": {
   "display_name": "Python 3",
   "language": "python",
   "name": "python3"
  },
  "language_info": {
   "codemirror_mode": {
    "name": "ipython",
    "version": 3
   },
   "file_extension": ".py",
   "mimetype": "text/x-python",
   "name": "python",
   "nbconvert_exporter": "python",
   "pygments_lexer": "ipython3",
   "version": "3.8.3"
  }
 },
 "nbformat": 4,
 "nbformat_minor": 4
}
