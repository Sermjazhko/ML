{
 "cells": [
  {
   "cell_type": "markdown",
   "metadata": {},
   "source": [
    "# 0. Описание задачи.\n",
    "\n",
    "Задача - проанализаровать набор данных, а именно видеоигры, и решить задачу классификации.\n",
    "На основе обучающей и тестовой выборки исследовать жанр игры."
   ]
  },
  {
   "cell_type": "code",
   "execution_count": 1,
   "metadata": {},
   "outputs": [],
   "source": [
    "import numpy as np              # Массивы (матрицы, векторы, линейная алгебра)\n",
    "import matplotlib.pyplot as plt # Научная графика\n",
    "%matplotlib inline \n",
    "    # Говорим jupyter'у, чтобы весь графический вывод был в браузере, а не в отдельном окне\n",
    "import pandas as pd             # Таблицы и временные ряды (dataframe, series)\n",
    "import seaborn as sns           # Еще больше красивой графики для визуализации данных\n",
    "import sklearn                  # Алгоритмы машинного обучения"
   ]
  },
  {
   "cell_type": "markdown",
   "metadata": {},
   "source": [
    "# 1. Чтение данных.\n"
   ]
  },
  {
   "cell_type": "code",
   "execution_count": 2,
   "metadata": {},
   "outputs": [],
   "source": [
    "url = \"https://raw.githubusercontent.com/Sermjazhko/ML/master/imdb-videogames.csv\"\n",
    "\n",
    "data_raw = pd.read_csv(url)"
   ]
  },
  {
   "cell_type": "markdown",
   "metadata": {},
   "source": [
    "В таблице представлено более 20 тысяч видеоигр. Для каждой видеоигры указаны: \n",
    "\n",
    "номер, название игры, жанры, год выпуска, возрастной рейтинг, рейтинг игры, количество просмотров, краткий сюжет."
   ]
  },
  {
   "cell_type": "code",
   "execution_count": 3,
   "metadata": {},
   "outputs": [
    {
     "data": {
      "text/plain": [
       "(20803, 17)"
      ]
     },
     "execution_count": 3,
     "metadata": {},
     "output_type": "execute_result"
    }
   ],
   "source": [
    "data_raw.shape"
   ]
  },
  {
   "cell_type": "markdown",
   "metadata": {},
   "source": [
    "То есть 20 803 различных видеоигры и 17 признаков.\n",
    "\n",
    "Для примера первые пять строк данных: "
   ]
  },
  {
   "cell_type": "code",
   "execution_count": 4,
   "metadata": {
    "scrolled": true
   },
   "outputs": [
    {
     "data": {
      "text/html": [
       "<div>\n",
       "<style scoped>\n",
       "    .dataframe tbody tr th:only-of-type {\n",
       "        vertical-align: middle;\n",
       "    }\n",
       "\n",
       "    .dataframe tbody tr th {\n",
       "        vertical-align: top;\n",
       "    }\n",
       "\n",
       "    .dataframe thead th {\n",
       "        text-align: right;\n",
       "    }\n",
       "</style>\n",
       "<table border=\"1\" class=\"dataframe\">\n",
       "  <thead>\n",
       "    <tr style=\"text-align: right;\">\n",
       "      <th></th>\n",
       "      <th>Unnamed: 0</th>\n",
       "      <th>name</th>\n",
       "      <th>url</th>\n",
       "      <th>year</th>\n",
       "      <th>certificate</th>\n",
       "      <th>rating</th>\n",
       "      <th>votes</th>\n",
       "      <th>plot</th>\n",
       "      <th>Action</th>\n",
       "      <th>Adventure</th>\n",
       "      <th>Comedy</th>\n",
       "      <th>Crime</th>\n",
       "      <th>Family</th>\n",
       "      <th>Fantasy</th>\n",
       "      <th>Mystery</th>\n",
       "      <th>Sci-Fi</th>\n",
       "      <th>Thriller</th>\n",
       "    </tr>\n",
       "  </thead>\n",
       "  <tbody>\n",
       "    <tr>\n",
       "      <th>0</th>\n",
       "      <td>0</td>\n",
       "      <td>Spider-Man</td>\n",
       "      <td>https://www.imdb.com/title/tt5807780/?ref_=adv...</td>\n",
       "      <td>2018.0</td>\n",
       "      <td>T</td>\n",
       "      <td>9.2</td>\n",
       "      <td>20,759</td>\n",
       "      <td>When a new villain threatens New York City, Pe...</td>\n",
       "      <td>True</td>\n",
       "      <td>True</td>\n",
       "      <td>False</td>\n",
       "      <td>False</td>\n",
       "      <td>False</td>\n",
       "      <td>True</td>\n",
       "      <td>False</td>\n",
       "      <td>False</td>\n",
       "      <td>False</td>\n",
       "    </tr>\n",
       "    <tr>\n",
       "      <th>1</th>\n",
       "      <td>1</td>\n",
       "      <td>Red Dead Redemption II</td>\n",
       "      <td>https://www.imdb.com/title/tt6161168/?ref_=adv...</td>\n",
       "      <td>2018.0</td>\n",
       "      <td>M</td>\n",
       "      <td>9.7</td>\n",
       "      <td>35,703</td>\n",
       "      <td>Amidst the decline of the Wild West at the tur...</td>\n",
       "      <td>True</td>\n",
       "      <td>True</td>\n",
       "      <td>False</td>\n",
       "      <td>True</td>\n",
       "      <td>False</td>\n",
       "      <td>False</td>\n",
       "      <td>False</td>\n",
       "      <td>False</td>\n",
       "      <td>False</td>\n",
       "    </tr>\n",
       "    <tr>\n",
       "      <th>2</th>\n",
       "      <td>2</td>\n",
       "      <td>Grand Theft Auto V</td>\n",
       "      <td>https://www.imdb.com/title/tt2103188/?ref_=adv...</td>\n",
       "      <td>2013.0</td>\n",
       "      <td>M</td>\n",
       "      <td>9.5</td>\n",
       "      <td>59,986</td>\n",
       "      <td>Three very different criminals team up for a s...</td>\n",
       "      <td>True</td>\n",
       "      <td>False</td>\n",
       "      <td>False</td>\n",
       "      <td>True</td>\n",
       "      <td>False</td>\n",
       "      <td>False</td>\n",
       "      <td>False</td>\n",
       "      <td>False</td>\n",
       "      <td>False</td>\n",
       "    </tr>\n",
       "    <tr>\n",
       "      <th>3</th>\n",
       "      <td>3</td>\n",
       "      <td>God of War</td>\n",
       "      <td>https://www.imdb.com/title/tt5838588/?ref_=adv...</td>\n",
       "      <td>2018.0</td>\n",
       "      <td>M</td>\n",
       "      <td>9.6</td>\n",
       "      <td>26,118</td>\n",
       "      <td>After wiping out the gods of Mount Olympus, Kr...</td>\n",
       "      <td>True</td>\n",
       "      <td>True</td>\n",
       "      <td>False</td>\n",
       "      <td>False</td>\n",
       "      <td>False</td>\n",
       "      <td>False</td>\n",
       "      <td>False</td>\n",
       "      <td>False</td>\n",
       "      <td>False</td>\n",
       "    </tr>\n",
       "    <tr>\n",
       "      <th>4</th>\n",
       "      <td>4</td>\n",
       "      <td>Uncharted 4: A Thief's End</td>\n",
       "      <td>https://www.imdb.com/title/tt3334704/?ref_=adv...</td>\n",
       "      <td>2016.0</td>\n",
       "      <td>T</td>\n",
       "      <td>9.5</td>\n",
       "      <td>28,722</td>\n",
       "      <td>Thrown back into the dangerous underworld he'd...</td>\n",
       "      <td>True</td>\n",
       "      <td>True</td>\n",
       "      <td>False</td>\n",
       "      <td>False</td>\n",
       "      <td>False</td>\n",
       "      <td>False</td>\n",
       "      <td>False</td>\n",
       "      <td>False</td>\n",
       "      <td>False</td>\n",
       "    </tr>\n",
       "  </tbody>\n",
       "</table>\n",
       "</div>"
      ],
      "text/plain": [
       "   Unnamed: 0                        name  \\\n",
       "0           0                  Spider-Man   \n",
       "1           1      Red Dead Redemption II   \n",
       "2           2          Grand Theft Auto V   \n",
       "3           3                  God of War   \n",
       "4           4  Uncharted 4: A Thief's End   \n",
       "\n",
       "                                                 url    year certificate  \\\n",
       "0  https://www.imdb.com/title/tt5807780/?ref_=adv...  2018.0           T   \n",
       "1  https://www.imdb.com/title/tt6161168/?ref_=adv...  2018.0           M   \n",
       "2  https://www.imdb.com/title/tt2103188/?ref_=adv...  2013.0           M   \n",
       "3  https://www.imdb.com/title/tt5838588/?ref_=adv...  2018.0           M   \n",
       "4  https://www.imdb.com/title/tt3334704/?ref_=adv...  2016.0           T   \n",
       "\n",
       "   rating   votes                                               plot  Action  \\\n",
       "0     9.2  20,759  When a new villain threatens New York City, Pe...    True   \n",
       "1     9.7  35,703  Amidst the decline of the Wild West at the tur...    True   \n",
       "2     9.5  59,986  Three very different criminals team up for a s...    True   \n",
       "3     9.6  26,118  After wiping out the gods of Mount Olympus, Kr...    True   \n",
       "4     9.5  28,722  Thrown back into the dangerous underworld he'd...    True   \n",
       "\n",
       "   Adventure  Comedy  Crime  Family  Fantasy  Mystery  Sci-Fi  Thriller  \n",
       "0       True   False  False   False     True    False   False     False  \n",
       "1       True   False   True   False    False    False   False     False  \n",
       "2      False   False   True   False    False    False   False     False  \n",
       "3       True   False  False   False    False    False   False     False  \n",
       "4       True   False  False   False    False    False   False     False  "
      ]
     },
     "execution_count": 4,
     "metadata": {},
     "output_type": "execute_result"
    }
   ],
   "source": [
    "data_raw.head()"
   ]
  },
  {
   "cell_type": "code",
   "execution_count": 5,
   "metadata": {},
   "outputs": [],
   "source": [
    "data_raw[\"votes\"] = data_raw[\"votes\"].apply(lambda l: float(str(l).replace(\",\", \"\")))"
   ]
  },
  {
   "cell_type": "markdown",
   "metadata": {},
   "source": [
    "# 2. Визуализация данных. "
   ]
  },
  {
   "cell_type": "markdown",
   "metadata": {},
   "source": [
    "Все признаки фильмов: "
   ]
  },
  {
   "cell_type": "code",
   "execution_count": 6,
   "metadata": {},
   "outputs": [
    {
     "data": {
      "text/plain": [
       "Index(['Unnamed: 0', 'name', 'url', 'year', 'certificate', 'rating', 'votes',\n",
       "       'plot', 'Action', 'Adventure', 'Comedy', 'Crime', 'Family', 'Fantasy',\n",
       "       'Mystery', 'Sci-Fi', 'Thriller'],\n",
       "      dtype='object')"
      ]
     },
     "execution_count": 6,
     "metadata": {},
     "output_type": "execute_result"
    }
   ],
   "source": [
    "data_raw.columns"
   ]
  },
  {
   "cell_type": "markdown",
   "metadata": {},
   "source": [
    "Сводная информация для признаков. В нашей задаче в качестве количественных признаков выступают рейтинг, количество просмотров, год выпуска. \n",
    "Для каждого количественного признака приведены средние значения, стандартное отклонение, минимальное и макимальное значения, медиана и значения квартилей:"
   ]
  },
  {
   "cell_type": "code",
   "execution_count": 7,
   "metadata": {},
   "outputs": [
    {
     "data": {
      "text/html": [
       "<div>\n",
       "<style scoped>\n",
       "    .dataframe tbody tr th:only-of-type {\n",
       "        vertical-align: middle;\n",
       "    }\n",
       "\n",
       "    .dataframe tbody tr th {\n",
       "        vertical-align: top;\n",
       "    }\n",
       "\n",
       "    .dataframe thead th {\n",
       "        text-align: right;\n",
       "    }\n",
       "</style>\n",
       "<table border=\"1\" class=\"dataframe\">\n",
       "  <thead>\n",
       "    <tr style=\"text-align: right;\">\n",
       "      <th></th>\n",
       "      <th>Unnamed: 0</th>\n",
       "      <th>year</th>\n",
       "      <th>rating</th>\n",
       "      <th>votes</th>\n",
       "    </tr>\n",
       "  </thead>\n",
       "  <tbody>\n",
       "    <tr>\n",
       "      <th>count</th>\n",
       "      <td>20803.000000</td>\n",
       "      <td>20536.000000</td>\n",
       "      <td>11600.000000</td>\n",
       "      <td>11600.000000</td>\n",
       "    </tr>\n",
       "    <tr>\n",
       "      <th>mean</th>\n",
       "      <td>10401.000000</td>\n",
       "      <td>2005.568611</td>\n",
       "      <td>7.047526</td>\n",
       "      <td>630.599138</td>\n",
       "    </tr>\n",
       "    <tr>\n",
       "      <th>std</th>\n",
       "      <td>6005.453161</td>\n",
       "      <td>11.846028</td>\n",
       "      <td>1.235204</td>\n",
       "      <td>2703.170342</td>\n",
       "    </tr>\n",
       "    <tr>\n",
       "      <th>min</th>\n",
       "      <td>0.000000</td>\n",
       "      <td>1952.000000</td>\n",
       "      <td>1.000000</td>\n",
       "      <td>5.000000</td>\n",
       "    </tr>\n",
       "    <tr>\n",
       "      <th>25%</th>\n",
       "      <td>5200.500000</td>\n",
       "      <td>1997.000000</td>\n",
       "      <td>6.400000</td>\n",
       "      <td>17.000000</td>\n",
       "    </tr>\n",
       "    <tr>\n",
       "      <th>50%</th>\n",
       "      <td>10401.000000</td>\n",
       "      <td>2008.000000</td>\n",
       "      <td>7.200000</td>\n",
       "      <td>48.000000</td>\n",
       "    </tr>\n",
       "    <tr>\n",
       "      <th>75%</th>\n",
       "      <td>15601.500000</td>\n",
       "      <td>2016.000000</td>\n",
       "      <td>7.900000</td>\n",
       "      <td>205.000000</td>\n",
       "    </tr>\n",
       "    <tr>\n",
       "      <th>max</th>\n",
       "      <td>20802.000000</td>\n",
       "      <td>2027.000000</td>\n",
       "      <td>9.700000</td>\n",
       "      <td>60597.000000</td>\n",
       "    </tr>\n",
       "  </tbody>\n",
       "</table>\n",
       "</div>"
      ],
      "text/plain": [
       "         Unnamed: 0          year        rating         votes\n",
       "count  20803.000000  20536.000000  11600.000000  11600.000000\n",
       "mean   10401.000000   2005.568611      7.047526    630.599138\n",
       "std     6005.453161     11.846028      1.235204   2703.170342\n",
       "min        0.000000   1952.000000      1.000000      5.000000\n",
       "25%     5200.500000   1997.000000      6.400000     17.000000\n",
       "50%    10401.000000   2008.000000      7.200000     48.000000\n",
       "75%    15601.500000   2016.000000      7.900000    205.000000\n",
       "max    20802.000000   2027.000000      9.700000  60597.000000"
      ]
     },
     "execution_count": 7,
     "metadata": {},
     "output_type": "execute_result"
    }
   ],
   "source": [
    "data_raw.describe()"
   ]
  },
  {
   "cell_type": "markdown",
   "metadata": {},
   "source": [
    "В целом видеоигры имеют оценку (рейтинг) выше среднего. Т.е. по 10-балльной шкале средняя оценка около 7.05 на разных платформах. Есть игры как с высоким рейтингом и большим количеством просмотров, так и с совсем низкими оценками. "
   ]
  },
  {
   "cell_type": "markdown",
   "metadata": {},
   "source": [
    "Для удобства обработаем некоторые столбцы. "
   ]
  },
  {
   "cell_type": "code",
   "execution_count": 8,
   "metadata": {},
   "outputs": [],
   "source": [
    "data_raw[\"boolRating\"] = np.where(data_raw[\"rating\"] >= 7.0, 1, 0) \n",
    "data_raw[\"Action\"] = np.where(data_raw[\"Action\"] == True, 1, 0)\n",
    "data_raw[\"Adventure\"] = np.where(data_raw[\"Adventure\"] == True, 1, 0)\n",
    "data_raw[\"Comedy\"] = np.where(data_raw[\"Comedy\"] == True, 1, 0)\n",
    "data_raw[\"Crime\"] = np.where(data_raw[\"Crime\"] == True, 1, 0)\n",
    "data_raw[\"Family\"] = np.where(data_raw[\"Family\"] == True, 1, 0)\n",
    "data_raw[\"Fantasy\"] = np.where(data_raw[\"Fantasy\"] == True, 1, 0)\n",
    "data_raw[\"Mystery\"] = np.where(data_raw[\"Mystery\"] == True, 1, 0)\n",
    "data_raw[\"Sci-Fi\"] = np.where(data_raw[\"Sci-Fi\"] == True, 1, 0)\n",
    "data_raw[\"Thriller\"] = np.where(data_raw[\"Thriller\"] == True, 1, 0)"
   ]
  },
  {
   "cell_type": "markdown",
   "metadata": {},
   "source": [
    "Построим диаграмму рассеивания: зависимость просмотров от рейтинга игры. "
   ]
  },
  {
   "cell_type": "code",
   "execution_count": 9,
   "metadata": {},
   "outputs": [
    {
     "data": {
      "image/png": "[encoded data removed]",
      "text/plain": [
       "<Figure size 432x288 with 1 Axes>"
      ]
     },
     "metadata": {
      "needs_background": "light"
     },
     "output_type": "display_data"
    }
   ],
   "source": [
    "plt.scatter(data_raw['rating'], data_raw['votes'])\n",
    "pass"
   ]
  },
  {
   "cell_type": "markdown",
   "metadata": {},
   "source": [
    "Видно, что чем выше оценка той или иной игры, тем больше просмотров.\n",
    "\n",
    "\n",
    "Построим зависимость рейтинга от года выпуска: "
   ]
  },
  {
   "cell_type": "code",
   "execution_count": 11,
   "metadata": {},
   "outputs": [
    {
     "data": {
      "image/png": "[encoded data removed]",
      "text/plain": [
       "<Figure size 432x288 with 1 Axes>"
      ]
     },
     "metadata": {
      "needs_background": "light"
     },
     "output_type": "display_data"
    }
   ],
   "source": [
    "plt.scatter(data_raw['rating'], data_raw['year'])\n",
    "pass"
   ]
  },
  {
   "cell_type": "markdown",
   "metadata": {},
   "source": [
    "Также можно построить зависимость количества просмотров от года. Построим рандомно 1000 точек. "
   ]
  },
  {
   "cell_type": "code",
   "execution_count": 12,
   "metadata": {},
   "outputs": [],
   "source": [
    "np.random.seed(42)\n",
    "random_subset = np.random.choice(np.arange(data_raw.shape[0]), size=1000, replace=False)"
   ]
  },
  {
   "cell_type": "code",
   "execution_count": 13,
   "metadata": {
    "scrolled": true
   },
   "outputs": [
    {
     "data": {
      "image/png": "[encoded data removed]",
      "text/plain": [
       "<Figure size 432x288 with 1 Axes>"
      ]
     },
     "metadata": {
      "needs_background": "light"
     },
     "output_type": "display_data"
    }
   ],
   "source": [
    "\n",
    "plt.scatter(data_raw.iloc[random_subset]['votes'], data_raw.iloc[random_subset]['year'],alpha=0.7)\n",
    "pass"
   ]
  },
  {
   "cell_type": "code",
   "execution_count": 14,
   "metadata": {},
   "outputs": [],
   "source": [
    "data = data_raw.loc[:, ['name', 'year', 'certificate', 'rating', 'votes',\n",
    "       'Comedy']].copy()"
   ]
  },
  {
   "cell_type": "code",
   "execution_count": 15,
   "metadata": {},
   "outputs": [
    {
     "data": {
      "text/html": [
       "<div>\n",
       "<style scoped>\n",
       "    .dataframe tbody tr th:only-of-type {\n",
       "        vertical-align: middle;\n",
       "    }\n",
       "\n",
       "    .dataframe tbody tr th {\n",
       "        vertical-align: top;\n",
       "    }\n",
       "\n",
       "    .dataframe thead th {\n",
       "        text-align: right;\n",
       "    }\n",
       "</style>\n",
       "<table border=\"1\" class=\"dataframe\">\n",
       "  <thead>\n",
       "    <tr style=\"text-align: right;\">\n",
       "      <th></th>\n",
       "      <th>name</th>\n",
       "      <th>year</th>\n",
       "      <th>certificate</th>\n",
       "      <th>rating</th>\n",
       "      <th>votes</th>\n",
       "      <th>Comedy</th>\n",
       "    </tr>\n",
       "  </thead>\n",
       "  <tbody>\n",
       "    <tr>\n",
       "      <th>0</th>\n",
       "      <td>Spider-Man</td>\n",
       "      <td>2018.0</td>\n",
       "      <td>T</td>\n",
       "      <td>9.2</td>\n",
       "      <td>20759.0</td>\n",
       "      <td>0</td>\n",
       "    </tr>\n",
       "    <tr>\n",
       "      <th>1</th>\n",
       "      <td>Red Dead Redemption II</td>\n",
       "      <td>2018.0</td>\n",
       "      <td>M</td>\n",
       "      <td>9.7</td>\n",
       "      <td>35703.0</td>\n",
       "      <td>0</td>\n",
       "    </tr>\n",
       "    <tr>\n",
       "      <th>2</th>\n",
       "      <td>Grand Theft Auto V</td>\n",
       "      <td>2013.0</td>\n",
       "      <td>M</td>\n",
       "      <td>9.5</td>\n",
       "      <td>59986.0</td>\n",
       "      <td>0</td>\n",
       "    </tr>\n",
       "    <tr>\n",
       "      <th>3</th>\n",
       "      <td>God of War</td>\n",
       "      <td>2018.0</td>\n",
       "      <td>M</td>\n",
       "      <td>9.6</td>\n",
       "      <td>26118.0</td>\n",
       "      <td>0</td>\n",
       "    </tr>\n",
       "    <tr>\n",
       "      <th>4</th>\n",
       "      <td>Uncharted 4: A Thief's End</td>\n",
       "      <td>2016.0</td>\n",
       "      <td>T</td>\n",
       "      <td>9.5</td>\n",
       "      <td>28722.0</td>\n",
       "      <td>0</td>\n",
       "    </tr>\n",
       "  </tbody>\n",
       "</table>\n",
       "</div>"
      ],
      "text/plain": [
       "                         name    year certificate  rating    votes  Comedy\n",
       "0                  Spider-Man  2018.0           T     9.2  20759.0       0\n",
       "1      Red Dead Redemption II  2018.0           M     9.7  35703.0       0\n",
       "2          Grand Theft Auto V  2013.0           M     9.5  59986.0       0\n",
       "3                  God of War  2018.0           M     9.6  26118.0       0\n",
       "4  Uncharted 4: A Thief's End  2016.0           T     9.5  28722.0       0"
      ]
     },
     "execution_count": 15,
     "metadata": {},
     "output_type": "execute_result"
    }
   ],
   "source": [
    "data.head()"
   ]
  },
  {
   "cell_type": "markdown",
   "metadata": {},
   "source": [
    "Построим все возможные диаграммы рассеивания для каждой пары переменных:"
   ]
  },
  {
   "cell_type": "code",
   "execution_count": 16,
   "metadata": {},
   "outputs": [
    {
     "data": {
      "image/png": "[encoded data removed]",
      "text/plain": [
       "<Figure size 588.875x540 with 12 Axes>"
      ]
     },
     "metadata": {
      "needs_background": "light"
     },
     "output_type": "display_data"
    }
   ],
   "source": [
    "sns.pairplot(data.iloc[random_subset], hue='Comedy', diag_kind='hist')\n",
    "plt.legend()\n",
    "pass"
   ]
  },
  {
   "cell_type": "markdown",
   "metadata": {},
   "source": [
    "Отдельно построим гистограмму рейтинга:"
   ]
  },
  {
   "cell_type": "code",
   "execution_count": 18,
   "metadata": {},
   "outputs": [
    {
     "data": {
      "image/png": "[encoded data removed]",
      "text/plain": [
       "<Figure size 432x288 with 1 Axes>"
      ]
     },
     "metadata": {
      "needs_background": "light"
     },
     "output_type": "display_data"
    }
   ],
   "source": [
    "sns.distplot(data_raw['rating'], bins=15)\n",
    "plt.grid()\n",
    "pass"
   ]
  },
  {
   "cell_type": "markdown",
   "metadata": {},
   "source": [
    "Построим корреляционную матрицу:"
   ]
  },
  {
   "cell_type": "code",
   "execution_count": 19,
   "metadata": {},
   "outputs": [
    {
     "data": {
      "text/html": [
       "<div>\n",
       "<style scoped>\n",
       "    .dataframe tbody tr th:only-of-type {\n",
       "        vertical-align: middle;\n",
       "    }\n",
       "\n",
       "    .dataframe tbody tr th {\n",
       "        vertical-align: top;\n",
       "    }\n",
       "\n",
       "    .dataframe thead th {\n",
       "        text-align: right;\n",
       "    }\n",
       "</style>\n",
       "<table border=\"1\" class=\"dataframe\">\n",
       "  <thead>\n",
       "    <tr style=\"text-align: right;\">\n",
       "      <th></th>\n",
       "      <th>year</th>\n",
       "      <th>rating</th>\n",
       "      <th>votes</th>\n",
       "      <th>Comedy</th>\n",
       "    </tr>\n",
       "  </thead>\n",
       "  <tbody>\n",
       "    <tr>\n",
       "      <th>year</th>\n",
       "      <td>1.000000</td>\n",
       "      <td>0.156791</td>\n",
       "      <td>0.098998</td>\n",
       "      <td>0.069104</td>\n",
       "    </tr>\n",
       "    <tr>\n",
       "      <th>rating</th>\n",
       "      <td>0.156791</td>\n",
       "      <td>1.000000</td>\n",
       "      <td>0.256408</td>\n",
       "      <td>0.037484</td>\n",
       "    </tr>\n",
       "    <tr>\n",
       "      <th>votes</th>\n",
       "      <td>0.098998</td>\n",
       "      <td>0.256408</td>\n",
       "      <td>1.000000</td>\n",
       "      <td>-0.025128</td>\n",
       "    </tr>\n",
       "    <tr>\n",
       "      <th>Comedy</th>\n",
       "      <td>0.069104</td>\n",
       "      <td>0.037484</td>\n",
       "      <td>-0.025128</td>\n",
       "      <td>1.000000</td>\n",
       "    </tr>\n",
       "  </tbody>\n",
       "</table>\n",
       "</div>"
      ],
      "text/plain": [
       "            year    rating     votes    Comedy\n",
       "year    1.000000  0.156791  0.098998  0.069104\n",
       "rating  0.156791  1.000000  0.256408  0.037484\n",
       "votes   0.098998  0.256408  1.000000 -0.025128\n",
       "Comedy  0.069104  0.037484 -0.025128  1.000000"
      ]
     },
     "execution_count": 19,
     "metadata": {},
     "output_type": "execute_result"
    }
   ],
   "source": [
    "corr_mat = data.corr()\n",
    "corr_mat"
   ]
  },
  {
   "cell_type": "code",
   "execution_count": 20,
   "metadata": {},
   "outputs": [
    {
     "data": {
      "image/png": "[encoded data removed]",
      "text/plain": [
       "<Figure size 432x288 with 2 Axes>"
      ]
     },
     "metadata": {
      "needs_background": "light"
     },
     "output_type": "display_data"
    }
   ],
   "source": [
    "sns.heatmap(corr_mat, square=True, cmap='coolwarm')\n",
    "pass"
   ]
  },
  {
   "cell_type": "markdown",
   "metadata": {},
   "source": [
    "Из матрицы корреляции видно, что некоторые параметры имеют отрицательную корреляцию."
   ]
  },
  {
   "cell_type": "markdown",
   "metadata": {},
   "source": [
    "# 3. Обработка пропущенных значений\n"
   ]
  },
  {
   "cell_type": "markdown",
   "metadata": {},
   "source": [
    "Пропущенные значения в таблице представлены значениями np.nan. Посмотрим, сколько пропущенных значений в каждом столбце матрицы:"
   ]
  },
  {
   "cell_type": "code",
   "execution_count": 21,
   "metadata": {
    "scrolled": true
   },
   "outputs": [
    {
     "data": {
      "text/plain": [
       "Unnamed: 0         0\n",
       "name               0\n",
       "url                0\n",
       "year             267\n",
       "certificate    12900\n",
       "rating          9203\n",
       "votes           9203\n",
       "plot               0\n",
       "Action             0\n",
       "Adventure          0\n",
       "Comedy             0\n",
       "Crime              0\n",
       "Family             0\n",
       "Fantasy            0\n",
       "Mystery            0\n",
       "Sci-Fi             0\n",
       "Thriller           0\n",
       "boolRating         0\n",
       "dtype: int64"
      ]
     },
     "execution_count": 21,
     "metadata": {},
     "output_type": "execute_result"
    }
   ],
   "source": [
    "data_raw.isna().sum()"
   ]
  },
  {
   "cell_type": "markdown",
   "metadata": {},
   "source": [
    "В нашем случае пропущенных значений довольно много, чтобы их удалить. Пропущенные значения в столбцах, соответствующих категориальным признакам, заполним модой:"
   ]
  },
  {
   "cell_type": "code",
   "execution_count": 22,
   "metadata": {},
   "outputs": [
    {
     "data": {
      "text/html": [
       "<div>\n",
       "<style scoped>\n",
       "    .dataframe tbody tr th:only-of-type {\n",
       "        vertical-align: middle;\n",
       "    }\n",
       "\n",
       "    .dataframe tbody tr th {\n",
       "        vertical-align: top;\n",
       "    }\n",
       "\n",
       "    .dataframe thead th {\n",
       "        text-align: right;\n",
       "    }\n",
       "</style>\n",
       "<table border=\"1\" class=\"dataframe\">\n",
       "  <thead>\n",
       "    <tr style=\"text-align: right;\">\n",
       "      <th></th>\n",
       "      <th>Unnamed: 0</th>\n",
       "      <th>name</th>\n",
       "      <th>url</th>\n",
       "      <th>year</th>\n",
       "      <th>certificate</th>\n",
       "      <th>rating</th>\n",
       "      <th>votes</th>\n",
       "      <th>plot</th>\n",
       "      <th>Action</th>\n",
       "      <th>Adventure</th>\n",
       "      <th>Comedy</th>\n",
       "      <th>Crime</th>\n",
       "      <th>Family</th>\n",
       "      <th>Fantasy</th>\n",
       "      <th>Mystery</th>\n",
       "      <th>Sci-Fi</th>\n",
       "      <th>Thriller</th>\n",
       "      <th>boolRating</th>\n",
       "    </tr>\n",
       "  </thead>\n",
       "  <tbody>\n",
       "    <tr>\n",
       "      <th>0</th>\n",
       "      <td>0</td>\n",
       "      <td>Spider-Man</td>\n",
       "      <td>https://www.imdb.com/title/tt5807780/?ref_=adv...</td>\n",
       "      <td>2018.0</td>\n",
       "      <td>T</td>\n",
       "      <td>9.2</td>\n",
       "      <td>20759.0</td>\n",
       "      <td>When a new villain threatens New York City, Pe...</td>\n",
       "      <td>1</td>\n",
       "      <td>1</td>\n",
       "      <td>0</td>\n",
       "      <td>0</td>\n",
       "      <td>0</td>\n",
       "      <td>1</td>\n",
       "      <td>0</td>\n",
       "      <td>0</td>\n",
       "      <td>0</td>\n",
       "      <td>1</td>\n",
       "    </tr>\n",
       "    <tr>\n",
       "      <th>1</th>\n",
       "      <td>1</td>\n",
       "      <td>Red Dead Redemption II</td>\n",
       "      <td>https://www.imdb.com/title/tt6161168/?ref_=adv...</td>\n",
       "      <td>2018.0</td>\n",
       "      <td>M</td>\n",
       "      <td>9.7</td>\n",
       "      <td>35703.0</td>\n",
       "      <td>Amidst the decline of the Wild West at the tur...</td>\n",
       "      <td>1</td>\n",
       "      <td>1</td>\n",
       "      <td>0</td>\n",
       "      <td>1</td>\n",
       "      <td>0</td>\n",
       "      <td>0</td>\n",
       "      <td>0</td>\n",
       "      <td>0</td>\n",
       "      <td>0</td>\n",
       "      <td>1</td>\n",
       "    </tr>\n",
       "    <tr>\n",
       "      <th>2</th>\n",
       "      <td>2</td>\n",
       "      <td>Grand Theft Auto V</td>\n",
       "      <td>https://www.imdb.com/title/tt2103188/?ref_=adv...</td>\n",
       "      <td>2013.0</td>\n",
       "      <td>M</td>\n",
       "      <td>9.5</td>\n",
       "      <td>59986.0</td>\n",
       "      <td>Three very different criminals team up for a s...</td>\n",
       "      <td>1</td>\n",
       "      <td>0</td>\n",
       "      <td>0</td>\n",
       "      <td>1</td>\n",
       "      <td>0</td>\n",
       "      <td>0</td>\n",
       "      <td>0</td>\n",
       "      <td>0</td>\n",
       "      <td>0</td>\n",
       "      <td>1</td>\n",
       "    </tr>\n",
       "    <tr>\n",
       "      <th>3</th>\n",
       "      <td>3</td>\n",
       "      <td>God of War</td>\n",
       "      <td>https://www.imdb.com/title/tt5838588/?ref_=adv...</td>\n",
       "      <td>2018.0</td>\n",
       "      <td>M</td>\n",
       "      <td>9.6</td>\n",
       "      <td>26118.0</td>\n",
       "      <td>After wiping out the gods of Mount Olympus, Kr...</td>\n",
       "      <td>1</td>\n",
       "      <td>1</td>\n",
       "      <td>0</td>\n",
       "      <td>0</td>\n",
       "      <td>0</td>\n",
       "      <td>0</td>\n",
       "      <td>0</td>\n",
       "      <td>0</td>\n",
       "      <td>0</td>\n",
       "      <td>1</td>\n",
       "    </tr>\n",
       "    <tr>\n",
       "      <th>4</th>\n",
       "      <td>4</td>\n",
       "      <td>Uncharted 4: A Thief's End</td>\n",
       "      <td>https://www.imdb.com/title/tt3334704/?ref_=adv...</td>\n",
       "      <td>2016.0</td>\n",
       "      <td>T</td>\n",
       "      <td>9.5</td>\n",
       "      <td>28722.0</td>\n",
       "      <td>Thrown back into the dangerous underworld he'd...</td>\n",
       "      <td>1</td>\n",
       "      <td>1</td>\n",
       "      <td>0</td>\n",
       "      <td>0</td>\n",
       "      <td>0</td>\n",
       "      <td>0</td>\n",
       "      <td>0</td>\n",
       "      <td>0</td>\n",
       "      <td>0</td>\n",
       "      <td>1</td>\n",
       "    </tr>\n",
       "    <tr>\n",
       "      <th>...</th>\n",
       "      <td>...</td>\n",
       "      <td>...</td>\n",
       "      <td>...</td>\n",
       "      <td>...</td>\n",
       "      <td>...</td>\n",
       "      <td>...</td>\n",
       "      <td>...</td>\n",
       "      <td>...</td>\n",
       "      <td>...</td>\n",
       "      <td>...</td>\n",
       "      <td>...</td>\n",
       "      <td>...</td>\n",
       "      <td>...</td>\n",
       "      <td>...</td>\n",
       "      <td>...</td>\n",
       "      <td>...</td>\n",
       "      <td>...</td>\n",
       "      <td>...</td>\n",
       "    </tr>\n",
       "    <tr>\n",
       "      <th>20798</th>\n",
       "      <td>20798</td>\n",
       "      <td>Enjoy Your Power, Enjoy Your Choice</td>\n",
       "      <td>https://www.imdb.com/title/tt3845606/?ref_=adv...</td>\n",
       "      <td>2014.0</td>\n",
       "      <td>NaN</td>\n",
       "      <td>NaN</td>\n",
       "      <td>NaN</td>\n",
       "      <td>Add a Plot</td>\n",
       "      <td>0</td>\n",
       "      <td>0</td>\n",
       "      <td>0</td>\n",
       "      <td>0</td>\n",
       "      <td>0</td>\n",
       "      <td>0</td>\n",
       "      <td>0</td>\n",
       "      <td>0</td>\n",
       "      <td>1</td>\n",
       "      <td>0</td>\n",
       "    </tr>\n",
       "    <tr>\n",
       "      <th>20799</th>\n",
       "      <td>20799</td>\n",
       "      <td>RedSun2020</td>\n",
       "      <td>https://www.imdb.com/title/tt0790739/?ref_=adv...</td>\n",
       "      <td>2004.0</td>\n",
       "      <td>NaN</td>\n",
       "      <td>NaN</td>\n",
       "      <td>NaN</td>\n",
       "      <td>Joseph gets kidnapped and it's the player's jo...</td>\n",
       "      <td>0</td>\n",
       "      <td>0</td>\n",
       "      <td>0</td>\n",
       "      <td>0</td>\n",
       "      <td>0</td>\n",
       "      <td>0</td>\n",
       "      <td>0</td>\n",
       "      <td>0</td>\n",
       "      <td>1</td>\n",
       "      <td>0</td>\n",
       "    </tr>\n",
       "    <tr>\n",
       "      <th>20800</th>\n",
       "      <td>20800</td>\n",
       "      <td>Shutter</td>\n",
       "      <td>https://www.imdb.com/title/tt5119948/?ref_=adv...</td>\n",
       "      <td>2015.0</td>\n",
       "      <td>NaN</td>\n",
       "      <td>NaN</td>\n",
       "      <td>NaN</td>\n",
       "      <td>A tech support man who uses a drone to investi...</td>\n",
       "      <td>0</td>\n",
       "      <td>0</td>\n",
       "      <td>0</td>\n",
       "      <td>0</td>\n",
       "      <td>0</td>\n",
       "      <td>0</td>\n",
       "      <td>0</td>\n",
       "      <td>0</td>\n",
       "      <td>1</td>\n",
       "      <td>0</td>\n",
       "    </tr>\n",
       "    <tr>\n",
       "      <th>20801</th>\n",
       "      <td>20801</td>\n",
       "      <td>The Music Machine</td>\n",
       "      <td>https://www.imdb.com/title/tt5142082/?ref_=adv...</td>\n",
       "      <td>2015.0</td>\n",
       "      <td>NaN</td>\n",
       "      <td>NaN</td>\n",
       "      <td>NaN</td>\n",
       "      <td>A young teenage girl and the ghost of a dead m...</td>\n",
       "      <td>0</td>\n",
       "      <td>0</td>\n",
       "      <td>0</td>\n",
       "      <td>0</td>\n",
       "      <td>0</td>\n",
       "      <td>0</td>\n",
       "      <td>0</td>\n",
       "      <td>0</td>\n",
       "      <td>1</td>\n",
       "      <td>0</td>\n",
       "    </tr>\n",
       "    <tr>\n",
       "      <th>20802</th>\n",
       "      <td>20802</td>\n",
       "      <td>Cryptic</td>\n",
       "      <td>https://www.imdb.com/title/tt10964974/?ref_=ad...</td>\n",
       "      <td>2020.0</td>\n",
       "      <td>NaN</td>\n",
       "      <td>NaN</td>\n",
       "      <td>NaN</td>\n",
       "      <td>Kidnapped by an insane man and dragged into a ...</td>\n",
       "      <td>0</td>\n",
       "      <td>0</td>\n",
       "      <td>0</td>\n",
       "      <td>0</td>\n",
       "      <td>0</td>\n",
       "      <td>0</td>\n",
       "      <td>0</td>\n",
       "      <td>0</td>\n",
       "      <td>1</td>\n",
       "      <td>0</td>\n",
       "    </tr>\n",
       "  </tbody>\n",
       "</table>\n",
       "<p>20803 rows × 18 columns</p>\n",
       "</div>"
      ],
      "text/plain": [
       "       Unnamed: 0                                 name  \\\n",
       "0               0                           Spider-Man   \n",
       "1               1               Red Dead Redemption II   \n",
       "2               2                   Grand Theft Auto V   \n",
       "3               3                           God of War   \n",
       "4               4           Uncharted 4: A Thief's End   \n",
       "...           ...                                  ...   \n",
       "20798       20798  Enjoy Your Power, Enjoy Your Choice   \n",
       "20799       20799                           RedSun2020   \n",
       "20800       20800                              Shutter   \n",
       "20801       20801                    The Music Machine   \n",
       "20802       20802                              Cryptic   \n",
       "\n",
       "                                                     url    year certificate  \\\n",
       "0      https://www.imdb.com/title/tt5807780/?ref_=adv...  2018.0           T   \n",
       "1      https://www.imdb.com/title/tt6161168/?ref_=adv...  2018.0           M   \n",
       "2      https://www.imdb.com/title/tt2103188/?ref_=adv...  2013.0           M   \n",
       "3      https://www.imdb.com/title/tt5838588/?ref_=adv...  2018.0           M   \n",
       "4      https://www.imdb.com/title/tt3334704/?ref_=adv...  2016.0           T   \n",
       "...                                                  ...     ...         ...   \n",
       "20798  https://www.imdb.com/title/tt3845606/?ref_=adv...  2014.0         NaN   \n",
       "20799  https://www.imdb.com/title/tt0790739/?ref_=adv...  2004.0         NaN   \n",
       "20800  https://www.imdb.com/title/tt5119948/?ref_=adv...  2015.0         NaN   \n",
       "20801  https://www.imdb.com/title/tt5142082/?ref_=adv...  2015.0         NaN   \n",
       "20802  https://www.imdb.com/title/tt10964974/?ref_=ad...  2020.0         NaN   \n",
       "\n",
       "       rating    votes                                               plot  \\\n",
       "0         9.2  20759.0  When a new villain threatens New York City, Pe...   \n",
       "1         9.7  35703.0  Amidst the decline of the Wild West at the tur...   \n",
       "2         9.5  59986.0  Three very different criminals team up for a s...   \n",
       "3         9.6  26118.0  After wiping out the gods of Mount Olympus, Kr...   \n",
       "4         9.5  28722.0  Thrown back into the dangerous underworld he'd...   \n",
       "...       ...      ...                                                ...   \n",
       "20798     NaN      NaN                                         Add a Plot   \n",
       "20799     NaN      NaN  Joseph gets kidnapped and it's the player's jo...   \n",
       "20800     NaN      NaN  A tech support man who uses a drone to investi...   \n",
       "20801     NaN      NaN  A young teenage girl and the ghost of a dead m...   \n",
       "20802     NaN      NaN  Kidnapped by an insane man and dragged into a ...   \n",
       "\n",
       "       Action  Adventure  Comedy  Crime  Family  Fantasy  Mystery  Sci-Fi  \\\n",
       "0           1          1       0      0       0        1        0       0   \n",
       "1           1          1       0      1       0        0        0       0   \n",
       "2           1          0       0      1       0        0        0       0   \n",
       "3           1          1       0      0       0        0        0       0   \n",
       "4           1          1       0      0       0        0        0       0   \n",
       "...       ...        ...     ...    ...     ...      ...      ...     ...   \n",
       "20798       0          0       0      0       0        0        0       0   \n",
       "20799       0          0       0      0       0        0        0       0   \n",
       "20800       0          0       0      0       0        0        0       0   \n",
       "20801       0          0       0      0       0        0        0       0   \n",
       "20802       0          0       0      0       0        0        0       0   \n",
       "\n",
       "       Thriller  boolRating  \n",
       "0             0           1  \n",
       "1             0           1  \n",
       "2             0           1  \n",
       "3             0           1  \n",
       "4             0           1  \n",
       "...         ...         ...  \n",
       "20798         1           0  \n",
       "20799         1           0  \n",
       "20800         1           0  \n",
       "20801         1           0  \n",
       "20802         1           0  \n",
       "\n",
       "[20803 rows x 18 columns]"
      ]
     },
     "execution_count": 22,
     "metadata": {},
     "output_type": "execute_result"
    }
   ],
   "source": [
    "data_raw"
   ]
  },
  {
   "cell_type": "code",
   "execution_count": 23,
   "metadata": {},
   "outputs": [],
   "source": [
    "data_raw['certificate'].fillna(data_raw['certificate'].mode().iloc[0], inplace=True)"
   ]
  },
  {
   "cell_type": "markdown",
   "metadata": {},
   "source": [
    "Заполним медианами пропущенные значения в столбцах, соответствующих числовым признакам:"
   ]
  },
  {
   "cell_type": "code",
   "execution_count": 25,
   "metadata": {},
   "outputs": [],
   "source": [
    "data_raw.fillna(data_raw.median(axis = 0), axis=0 , inplace=True)"
   ]
  },
  {
   "cell_type": "markdown",
   "metadata": {},
   "source": [
    "Проверяем: "
   ]
  },
  {
   "cell_type": "code",
   "execution_count": 26,
   "metadata": {},
   "outputs": [
    {
     "data": {
      "text/plain": [
       "Unnamed: 0     0\n",
       "name           0\n",
       "url            0\n",
       "year           0\n",
       "certificate    0\n",
       "rating         0\n",
       "votes          0\n",
       "plot           0\n",
       "Action         0\n",
       "Adventure      0\n",
       "Comedy         0\n",
       "Crime          0\n",
       "Family         0\n",
       "Fantasy        0\n",
       "Mystery        0\n",
       "Sci-Fi         0\n",
       "Thriller       0\n",
       "boolRating     0\n",
       "dtype: int64"
      ]
     },
     "execution_count": 26,
     "metadata": {},
     "output_type": "execute_result"
    }
   ],
   "source": [
    "data_raw.isna().sum()"
   ]
  },
  {
   "cell_type": "code",
   "execution_count": 27,
   "metadata": {},
   "outputs": [
    {
     "data": {
      "text/html": [
       "<div>\n",
       "<style scoped>\n",
       "    .dataframe tbody tr th:only-of-type {\n",
       "        vertical-align: middle;\n",
       "    }\n",
       "\n",
       "    .dataframe tbody tr th {\n",
       "        vertical-align: top;\n",
       "    }\n",
       "\n",
       "    .dataframe thead th {\n",
       "        text-align: right;\n",
       "    }\n",
       "</style>\n",
       "<table border=\"1\" class=\"dataframe\">\n",
       "  <thead>\n",
       "    <tr style=\"text-align: right;\">\n",
       "      <th></th>\n",
       "      <th>Unnamed: 0</th>\n",
       "      <th>name</th>\n",
       "      <th>url</th>\n",
       "      <th>year</th>\n",
       "      <th>certificate</th>\n",
       "      <th>rating</th>\n",
       "      <th>votes</th>\n",
       "      <th>plot</th>\n",
       "      <th>Action</th>\n",
       "      <th>Adventure</th>\n",
       "      <th>Comedy</th>\n",
       "      <th>Crime</th>\n",
       "      <th>Family</th>\n",
       "      <th>Fantasy</th>\n",
       "      <th>Mystery</th>\n",
       "      <th>Sci-Fi</th>\n",
       "      <th>Thriller</th>\n",
       "      <th>boolRating</th>\n",
       "    </tr>\n",
       "  </thead>\n",
       "  <tbody>\n",
       "    <tr>\n",
       "      <th>0</th>\n",
       "      <td>0</td>\n",
       "      <td>Spider-Man</td>\n",
       "      <td>https://www.imdb.com/title/tt5807780/?ref_=adv...</td>\n",
       "      <td>2018.0</td>\n",
       "      <td>T</td>\n",
       "      <td>9.2</td>\n",
       "      <td>20759.0</td>\n",
       "      <td>When a new villain threatens New York City, Pe...</td>\n",
       "      <td>1</td>\n",
       "      <td>1</td>\n",
       "      <td>0</td>\n",
       "      <td>0</td>\n",
       "      <td>0</td>\n",
       "      <td>1</td>\n",
       "      <td>0</td>\n",
       "      <td>0</td>\n",
       "      <td>0</td>\n",
       "      <td>1</td>\n",
       "    </tr>\n",
       "    <tr>\n",
       "      <th>1</th>\n",
       "      <td>1</td>\n",
       "      <td>Red Dead Redemption II</td>\n",
       "      <td>https://www.imdb.com/title/tt6161168/?ref_=adv...</td>\n",
       "      <td>2018.0</td>\n",
       "      <td>M</td>\n",
       "      <td>9.7</td>\n",
       "      <td>35703.0</td>\n",
       "      <td>Amidst the decline of the Wild West at the tur...</td>\n",
       "      <td>1</td>\n",
       "      <td>1</td>\n",
       "      <td>0</td>\n",
       "      <td>1</td>\n",
       "      <td>0</td>\n",
       "      <td>0</td>\n",
       "      <td>0</td>\n",
       "      <td>0</td>\n",
       "      <td>0</td>\n",
       "      <td>1</td>\n",
       "    </tr>\n",
       "    <tr>\n",
       "      <th>2</th>\n",
       "      <td>2</td>\n",
       "      <td>Grand Theft Auto V</td>\n",
       "      <td>https://www.imdb.com/title/tt2103188/?ref_=adv...</td>\n",
       "      <td>2013.0</td>\n",
       "      <td>M</td>\n",
       "      <td>9.5</td>\n",
       "      <td>59986.0</td>\n",
       "      <td>Three very different criminals team up for a s...</td>\n",
       "      <td>1</td>\n",
       "      <td>0</td>\n",
       "      <td>0</td>\n",
       "      <td>1</td>\n",
       "      <td>0</td>\n",
       "      <td>0</td>\n",
       "      <td>0</td>\n",
       "      <td>0</td>\n",
       "      <td>0</td>\n",
       "      <td>1</td>\n",
       "    </tr>\n",
       "    <tr>\n",
       "      <th>3</th>\n",
       "      <td>3</td>\n",
       "      <td>God of War</td>\n",
       "      <td>https://www.imdb.com/title/tt5838588/?ref_=adv...</td>\n",
       "      <td>2018.0</td>\n",
       "      <td>M</td>\n",
       "      <td>9.6</td>\n",
       "      <td>26118.0</td>\n",
       "      <td>After wiping out the gods of Mount Olympus, Kr...</td>\n",
       "      <td>1</td>\n",
       "      <td>1</td>\n",
       "      <td>0</td>\n",
       "      <td>0</td>\n",
       "      <td>0</td>\n",
       "      <td>0</td>\n",
       "      <td>0</td>\n",
       "      <td>0</td>\n",
       "      <td>0</td>\n",
       "      <td>1</td>\n",
       "    </tr>\n",
       "    <tr>\n",
       "      <th>4</th>\n",
       "      <td>4</td>\n",
       "      <td>Uncharted 4: A Thief's End</td>\n",
       "      <td>https://www.imdb.com/title/tt3334704/?ref_=adv...</td>\n",
       "      <td>2016.0</td>\n",
       "      <td>T</td>\n",
       "      <td>9.5</td>\n",
       "      <td>28722.0</td>\n",
       "      <td>Thrown back into the dangerous underworld he'd...</td>\n",
       "      <td>1</td>\n",
       "      <td>1</td>\n",
       "      <td>0</td>\n",
       "      <td>0</td>\n",
       "      <td>0</td>\n",
       "      <td>0</td>\n",
       "      <td>0</td>\n",
       "      <td>0</td>\n",
       "      <td>0</td>\n",
       "      <td>1</td>\n",
       "    </tr>\n",
       "    <tr>\n",
       "      <th>...</th>\n",
       "      <td>...</td>\n",
       "      <td>...</td>\n",
       "      <td>...</td>\n",
       "      <td>...</td>\n",
       "      <td>...</td>\n",
       "      <td>...</td>\n",
       "      <td>...</td>\n",
       "      <td>...</td>\n",
       "      <td>...</td>\n",
       "      <td>...</td>\n",
       "      <td>...</td>\n",
       "      <td>...</td>\n",
       "      <td>...</td>\n",
       "      <td>...</td>\n",
       "      <td>...</td>\n",
       "      <td>...</td>\n",
       "      <td>...</td>\n",
       "      <td>...</td>\n",
       "    </tr>\n",
       "    <tr>\n",
       "      <th>20798</th>\n",
       "      <td>20798</td>\n",
       "      <td>Enjoy Your Power, Enjoy Your Choice</td>\n",
       "      <td>https://www.imdb.com/title/tt3845606/?ref_=adv...</td>\n",
       "      <td>2014.0</td>\n",
       "      <td>T</td>\n",
       "      <td>7.2</td>\n",
       "      <td>48.0</td>\n",
       "      <td>Add a Plot</td>\n",
       "      <td>0</td>\n",
       "      <td>0</td>\n",
       "      <td>0</td>\n",
       "      <td>0</td>\n",
       "      <td>0</td>\n",
       "      <td>0</td>\n",
       "      <td>0</td>\n",
       "      <td>0</td>\n",
       "      <td>1</td>\n",
       "      <td>0</td>\n",
       "    </tr>\n",
       "    <tr>\n",
       "      <th>20799</th>\n",
       "      <td>20799</td>\n",
       "      <td>RedSun2020</td>\n",
       "      <td>https://www.imdb.com/title/tt0790739/?ref_=adv...</td>\n",
       "      <td>2004.0</td>\n",
       "      <td>T</td>\n",
       "      <td>7.2</td>\n",
       "      <td>48.0</td>\n",
       "      <td>Joseph gets kidnapped and it's the player's jo...</td>\n",
       "      <td>0</td>\n",
       "      <td>0</td>\n",
       "      <td>0</td>\n",
       "      <td>0</td>\n",
       "      <td>0</td>\n",
       "      <td>0</td>\n",
       "      <td>0</td>\n",
       "      <td>0</td>\n",
       "      <td>1</td>\n",
       "      <td>0</td>\n",
       "    </tr>\n",
       "    <tr>\n",
       "      <th>20800</th>\n",
       "      <td>20800</td>\n",
       "      <td>Shutter</td>\n",
       "      <td>https://www.imdb.com/title/tt5119948/?ref_=adv...</td>\n",
       "      <td>2015.0</td>\n",
       "      <td>T</td>\n",
       "      <td>7.2</td>\n",
       "      <td>48.0</td>\n",
       "      <td>A tech support man who uses a drone to investi...</td>\n",
       "      <td>0</td>\n",
       "      <td>0</td>\n",
       "      <td>0</td>\n",
       "      <td>0</td>\n",
       "      <td>0</td>\n",
       "      <td>0</td>\n",
       "      <td>0</td>\n",
       "      <td>0</td>\n",
       "      <td>1</td>\n",
       "      <td>0</td>\n",
       "    </tr>\n",
       "    <tr>\n",
       "      <th>20801</th>\n",
       "      <td>20801</td>\n",
       "      <td>The Music Machine</td>\n",
       "      <td>https://www.imdb.com/title/tt5142082/?ref_=adv...</td>\n",
       "      <td>2015.0</td>\n",
       "      <td>T</td>\n",
       "      <td>7.2</td>\n",
       "      <td>48.0</td>\n",
       "      <td>A young teenage girl and the ghost of a dead m...</td>\n",
       "      <td>0</td>\n",
       "      <td>0</td>\n",
       "      <td>0</td>\n",
       "      <td>0</td>\n",
       "      <td>0</td>\n",
       "      <td>0</td>\n",
       "      <td>0</td>\n",
       "      <td>0</td>\n",
       "      <td>1</td>\n",
       "      <td>0</td>\n",
       "    </tr>\n",
       "    <tr>\n",
       "      <th>20802</th>\n",
       "      <td>20802</td>\n",
       "      <td>Cryptic</td>\n",
       "      <td>https://www.imdb.com/title/tt10964974/?ref_=ad...</td>\n",
       "      <td>2020.0</td>\n",
       "      <td>T</td>\n",
       "      <td>7.2</td>\n",
       "      <td>48.0</td>\n",
       "      <td>Kidnapped by an insane man and dragged into a ...</td>\n",
       "      <td>0</td>\n",
       "      <td>0</td>\n",
       "      <td>0</td>\n",
       "      <td>0</td>\n",
       "      <td>0</td>\n",
       "      <td>0</td>\n",
       "      <td>0</td>\n",
       "      <td>0</td>\n",
       "      <td>1</td>\n",
       "      <td>0</td>\n",
       "    </tr>\n",
       "  </tbody>\n",
       "</table>\n",
       "<p>20803 rows × 18 columns</p>\n",
       "</div>"
      ],
      "text/plain": [
       "       Unnamed: 0                                 name  \\\n",
       "0               0                           Spider-Man   \n",
       "1               1               Red Dead Redemption II   \n",
       "2               2                   Grand Theft Auto V   \n",
       "3               3                           God of War   \n",
       "4               4           Uncharted 4: A Thief's End   \n",
       "...           ...                                  ...   \n",
       "20798       20798  Enjoy Your Power, Enjoy Your Choice   \n",
       "20799       20799                           RedSun2020   \n",
       "20800       20800                              Shutter   \n",
       "20801       20801                    The Music Machine   \n",
       "20802       20802                              Cryptic   \n",
       "\n",
       "                                                     url    year certificate  \\\n",
       "0      https://www.imdb.com/title/tt5807780/?ref_=adv...  2018.0           T   \n",
       "1      https://www.imdb.com/title/tt6161168/?ref_=adv...  2018.0           M   \n",
       "2      https://www.imdb.com/title/tt2103188/?ref_=adv...  2013.0           M   \n",
       "3      https://www.imdb.com/title/tt5838588/?ref_=adv...  2018.0           M   \n",
       "4      https://www.imdb.com/title/tt3334704/?ref_=adv...  2016.0           T   \n",
       "...                                                  ...     ...         ...   \n",
       "20798  https://www.imdb.com/title/tt3845606/?ref_=adv...  2014.0           T   \n",
       "20799  https://www.imdb.com/title/tt0790739/?ref_=adv...  2004.0           T   \n",
       "20800  https://www.imdb.com/title/tt5119948/?ref_=adv...  2015.0           T   \n",
       "20801  https://www.imdb.com/title/tt5142082/?ref_=adv...  2015.0           T   \n",
       "20802  https://www.imdb.com/title/tt10964974/?ref_=ad...  2020.0           T   \n",
       "\n",
       "       rating    votes                                               plot  \\\n",
       "0         9.2  20759.0  When a new villain threatens New York City, Pe...   \n",
       "1         9.7  35703.0  Amidst the decline of the Wild West at the tur...   \n",
       "2         9.5  59986.0  Three very different criminals team up for a s...   \n",
       "3         9.6  26118.0  After wiping out the gods of Mount Olympus, Kr...   \n",
       "4         9.5  28722.0  Thrown back into the dangerous underworld he'd...   \n",
       "...       ...      ...                                                ...   \n",
       "20798     7.2     48.0                                         Add a Plot   \n",
       "20799     7.2     48.0  Joseph gets kidnapped and it's the player's jo...   \n",
       "20800     7.2     48.0  A tech support man who uses a drone to investi...   \n",
       "20801     7.2     48.0  A young teenage girl and the ghost of a dead m...   \n",
       "20802     7.2     48.0  Kidnapped by an insane man and dragged into a ...   \n",
       "\n",
       "       Action  Adventure  Comedy  Crime  Family  Fantasy  Mystery  Sci-Fi  \\\n",
       "0           1          1       0      0       0        1        0       0   \n",
       "1           1          1       0      1       0        0        0       0   \n",
       "2           1          0       0      1       0        0        0       0   \n",
       "3           1          1       0      0       0        0        0       0   \n",
       "4           1          1       0      0       0        0        0       0   \n",
       "...       ...        ...     ...    ...     ...      ...      ...     ...   \n",
       "20798       0          0       0      0       0        0        0       0   \n",
       "20799       0          0       0      0       0        0        0       0   \n",
       "20800       0          0       0      0       0        0        0       0   \n",
       "20801       0          0       0      0       0        0        0       0   \n",
       "20802       0          0       0      0       0        0        0       0   \n",
       "\n",
       "       Thriller  boolRating  \n",
       "0             0           1  \n",
       "1             0           1  \n",
       "2             0           1  \n",
       "3             0           1  \n",
       "4             0           1  \n",
       "...         ...         ...  \n",
       "20798         1           0  \n",
       "20799         1           0  \n",
       "20800         1           0  \n",
       "20801         1           0  \n",
       "20802         1           0  \n",
       "\n",
       "[20803 rows x 18 columns]"
      ]
     },
     "execution_count": 27,
     "metadata": {},
     "output_type": "execute_result"
    }
   ],
   "source": [
    "data_raw"
   ]
  },
  {
   "cell_type": "markdown",
   "metadata": {},
   "source": [
    "# 4. Обработка категориальных признаков."
   ]
  },
  {
   "cell_type": "markdown",
   "metadata": {},
   "source": [
    "Столбец 'certificate' содержит категориальные значения. Пока они имеют тип 'Object'. Заменим тип на специальный, предназначенный для хранения категориальных значений:"
   ]
  },
  {
   "cell_type": "code",
   "execution_count": 28,
   "metadata": {},
   "outputs": [],
   "source": [
    "data = data_raw.loc[:, ['name', 'year', 'certificate', 'rating', 'votes',\n",
    "       'Comedy', 'boolRating']].copy()"
   ]
  },
  {
   "cell_type": "code",
   "execution_count": 29,
   "metadata": {},
   "outputs": [
    {
     "data": {
      "text/html": [
       "<div>\n",
       "<style scoped>\n",
       "    .dataframe tbody tr th:only-of-type {\n",
       "        vertical-align: middle;\n",
       "    }\n",
       "\n",
       "    .dataframe tbody tr th {\n",
       "        vertical-align: top;\n",
       "    }\n",
       "\n",
       "    .dataframe thead th {\n",
       "        text-align: right;\n",
       "    }\n",
       "</style>\n",
       "<table border=\"1\" class=\"dataframe\">\n",
       "  <thead>\n",
       "    <tr style=\"text-align: right;\">\n",
       "      <th></th>\n",
       "      <th>name</th>\n",
       "      <th>year</th>\n",
       "      <th>certificate</th>\n",
       "      <th>rating</th>\n",
       "      <th>votes</th>\n",
       "      <th>Comedy</th>\n",
       "      <th>boolRating</th>\n",
       "    </tr>\n",
       "  </thead>\n",
       "  <tbody>\n",
       "    <tr>\n",
       "      <th>0</th>\n",
       "      <td>Spider-Man</td>\n",
       "      <td>2018.0</td>\n",
       "      <td>T</td>\n",
       "      <td>9.2</td>\n",
       "      <td>20759.0</td>\n",
       "      <td>0</td>\n",
       "      <td>1</td>\n",
       "    </tr>\n",
       "    <tr>\n",
       "      <th>1</th>\n",
       "      <td>Red Dead Redemption II</td>\n",
       "      <td>2018.0</td>\n",
       "      <td>M</td>\n",
       "      <td>9.7</td>\n",
       "      <td>35703.0</td>\n",
       "      <td>0</td>\n",
       "      <td>1</td>\n",
       "    </tr>\n",
       "    <tr>\n",
       "      <th>2</th>\n",
       "      <td>Grand Theft Auto V</td>\n",
       "      <td>2013.0</td>\n",
       "      <td>M</td>\n",
       "      <td>9.5</td>\n",
       "      <td>59986.0</td>\n",
       "      <td>0</td>\n",
       "      <td>1</td>\n",
       "    </tr>\n",
       "    <tr>\n",
       "      <th>3</th>\n",
       "      <td>God of War</td>\n",
       "      <td>2018.0</td>\n",
       "      <td>M</td>\n",
       "      <td>9.6</td>\n",
       "      <td>26118.0</td>\n",
       "      <td>0</td>\n",
       "      <td>1</td>\n",
       "    </tr>\n",
       "    <tr>\n",
       "      <th>4</th>\n",
       "      <td>Uncharted 4: A Thief's End</td>\n",
       "      <td>2016.0</td>\n",
       "      <td>T</td>\n",
       "      <td>9.5</td>\n",
       "      <td>28722.0</td>\n",
       "      <td>0</td>\n",
       "      <td>1</td>\n",
       "    </tr>\n",
       "    <tr>\n",
       "      <th>...</th>\n",
       "      <td>...</td>\n",
       "      <td>...</td>\n",
       "      <td>...</td>\n",
       "      <td>...</td>\n",
       "      <td>...</td>\n",
       "      <td>...</td>\n",
       "      <td>...</td>\n",
       "    </tr>\n",
       "    <tr>\n",
       "      <th>20798</th>\n",
       "      <td>Enjoy Your Power, Enjoy Your Choice</td>\n",
       "      <td>2014.0</td>\n",
       "      <td>T</td>\n",
       "      <td>7.2</td>\n",
       "      <td>48.0</td>\n",
       "      <td>0</td>\n",
       "      <td>0</td>\n",
       "    </tr>\n",
       "    <tr>\n",
       "      <th>20799</th>\n",
       "      <td>RedSun2020</td>\n",
       "      <td>2004.0</td>\n",
       "      <td>T</td>\n",
       "      <td>7.2</td>\n",
       "      <td>48.0</td>\n",
       "      <td>0</td>\n",
       "      <td>0</td>\n",
       "    </tr>\n",
       "    <tr>\n",
       "      <th>20800</th>\n",
       "      <td>Shutter</td>\n",
       "      <td>2015.0</td>\n",
       "      <td>T</td>\n",
       "      <td>7.2</td>\n",
       "      <td>48.0</td>\n",
       "      <td>0</td>\n",
       "      <td>0</td>\n",
       "    </tr>\n",
       "    <tr>\n",
       "      <th>20801</th>\n",
       "      <td>The Music Machine</td>\n",
       "      <td>2015.0</td>\n",
       "      <td>T</td>\n",
       "      <td>7.2</td>\n",
       "      <td>48.0</td>\n",
       "      <td>0</td>\n",
       "      <td>0</td>\n",
       "    </tr>\n",
       "    <tr>\n",
       "      <th>20802</th>\n",
       "      <td>Cryptic</td>\n",
       "      <td>2020.0</td>\n",
       "      <td>T</td>\n",
       "      <td>7.2</td>\n",
       "      <td>48.0</td>\n",
       "      <td>0</td>\n",
       "      <td>0</td>\n",
       "    </tr>\n",
       "  </tbody>\n",
       "</table>\n",
       "<p>20803 rows × 7 columns</p>\n",
       "</div>"
      ],
      "text/plain": [
       "                                      name    year certificate  rating  \\\n",
       "0                               Spider-Man  2018.0           T     9.2   \n",
       "1                   Red Dead Redemption II  2018.0           M     9.7   \n",
       "2                       Grand Theft Auto V  2013.0           M     9.5   \n",
       "3                               God of War  2018.0           M     9.6   \n",
       "4               Uncharted 4: A Thief's End  2016.0           T     9.5   \n",
       "...                                    ...     ...         ...     ...   \n",
       "20798  Enjoy Your Power, Enjoy Your Choice  2014.0           T     7.2   \n",
       "20799                           RedSun2020  2004.0           T     7.2   \n",
       "20800                              Shutter  2015.0           T     7.2   \n",
       "20801                    The Music Machine  2015.0           T     7.2   \n",
       "20802                              Cryptic  2020.0           T     7.2   \n",
       "\n",
       "         votes  Comedy  boolRating  \n",
       "0      20759.0       0           1  \n",
       "1      35703.0       0           1  \n",
       "2      59986.0       0           1  \n",
       "3      26118.0       0           1  \n",
       "4      28722.0       0           1  \n",
       "...        ...     ...         ...  \n",
       "20798     48.0       0           0  \n",
       "20799     48.0       0           0  \n",
       "20800     48.0       0           0  \n",
       "20801     48.0       0           0  \n",
       "20802     48.0       0           0  \n",
       "\n",
       "[20803 rows x 7 columns]"
      ]
     },
     "execution_count": 29,
     "metadata": {},
     "output_type": "execute_result"
    }
   ],
   "source": [
    "data"
   ]
  },
  {
   "cell_type": "code",
   "execution_count": 30,
   "metadata": {},
   "outputs": [],
   "source": [
    "data['certificate'] = data['certificate'].astype('category')"
   ]
  },
  {
   "cell_type": "code",
   "execution_count": 31,
   "metadata": {
    "scrolled": true
   },
   "outputs": [
    {
     "data": {
      "text/html": [
       "<div>\n",
       "<style scoped>\n",
       "    .dataframe tbody tr th:only-of-type {\n",
       "        vertical-align: middle;\n",
       "    }\n",
       "\n",
       "    .dataframe tbody tr th {\n",
       "        vertical-align: top;\n",
       "    }\n",
       "\n",
       "    .dataframe thead th {\n",
       "        text-align: right;\n",
       "    }\n",
       "</style>\n",
       "<table border=\"1\" class=\"dataframe\">\n",
       "  <thead>\n",
       "    <tr style=\"text-align: right;\">\n",
       "      <th></th>\n",
       "      <th>name</th>\n",
       "      <th>year</th>\n",
       "      <th>certificate</th>\n",
       "      <th>rating</th>\n",
       "      <th>votes</th>\n",
       "      <th>Comedy</th>\n",
       "      <th>boolRating</th>\n",
       "    </tr>\n",
       "  </thead>\n",
       "  <tbody>\n",
       "    <tr>\n",
       "      <th>0</th>\n",
       "      <td>Spider-Man</td>\n",
       "      <td>2018.0</td>\n",
       "      <td>T</td>\n",
       "      <td>9.2</td>\n",
       "      <td>20759.0</td>\n",
       "      <td>0</td>\n",
       "      <td>1</td>\n",
       "    </tr>\n",
       "    <tr>\n",
       "      <th>1</th>\n",
       "      <td>Red Dead Redemption II</td>\n",
       "      <td>2018.0</td>\n",
       "      <td>M</td>\n",
       "      <td>9.7</td>\n",
       "      <td>35703.0</td>\n",
       "      <td>0</td>\n",
       "      <td>1</td>\n",
       "    </tr>\n",
       "    <tr>\n",
       "      <th>2</th>\n",
       "      <td>Grand Theft Auto V</td>\n",
       "      <td>2013.0</td>\n",
       "      <td>M</td>\n",
       "      <td>9.5</td>\n",
       "      <td>59986.0</td>\n",
       "      <td>0</td>\n",
       "      <td>1</td>\n",
       "    </tr>\n",
       "    <tr>\n",
       "      <th>3</th>\n",
       "      <td>God of War</td>\n",
       "      <td>2018.0</td>\n",
       "      <td>M</td>\n",
       "      <td>9.6</td>\n",
       "      <td>26118.0</td>\n",
       "      <td>0</td>\n",
       "      <td>1</td>\n",
       "    </tr>\n",
       "    <tr>\n",
       "      <th>4</th>\n",
       "      <td>Uncharted 4: A Thief's End</td>\n",
       "      <td>2016.0</td>\n",
       "      <td>T</td>\n",
       "      <td>9.5</td>\n",
       "      <td>28722.0</td>\n",
       "      <td>0</td>\n",
       "      <td>1</td>\n",
       "    </tr>\n",
       "  </tbody>\n",
       "</table>\n",
       "</div>"
      ],
      "text/plain": [
       "                         name    year certificate  rating    votes  Comedy  \\\n",
       "0                  Spider-Man  2018.0           T     9.2  20759.0       0   \n",
       "1      Red Dead Redemption II  2018.0           M     9.7  35703.0       0   \n",
       "2          Grand Theft Auto V  2013.0           M     9.5  59986.0       0   \n",
       "3                  God of War  2018.0           M     9.6  26118.0       0   \n",
       "4  Uncharted 4: A Thief's End  2016.0           T     9.5  28722.0       0   \n",
       "\n",
       "   boolRating  \n",
       "0           1  \n",
       "1           1  \n",
       "2           1  \n",
       "3           1  \n",
       "4           1  "
      ]
     },
     "execution_count": 31,
     "metadata": {},
     "output_type": "execute_result"
    }
   ],
   "source": [
    "data.head()"
   ]
  },
  {
   "cell_type": "markdown",
   "metadata": {},
   "source": [
    "Алгоритмы из библиотеки scikit-learn (почти) не умеют работать напрямую с категориальными признаками. Поэтому их вначале надо закодировать с помощью числовых принаков."
   ]
  },
  {
   "cell_type": "code",
   "execution_count": 32,
   "metadata": {},
   "outputs": [],
   "source": [
    "data['certificate'] = pd.factorize(data['certificate'])[0]"
   ]
  },
  {
   "cell_type": "markdown",
   "metadata": {},
   "source": [
    "В итоге получим: "
   ]
  },
  {
   "cell_type": "code",
   "execution_count": 33,
   "metadata": {},
   "outputs": [
    {
     "data": {
      "text/html": [
       "<div>\n",
       "<style scoped>\n",
       "    .dataframe tbody tr th:only-of-type {\n",
       "        vertical-align: middle;\n",
       "    }\n",
       "\n",
       "    .dataframe tbody tr th {\n",
       "        vertical-align: top;\n",
       "    }\n",
       "\n",
       "    .dataframe thead th {\n",
       "        text-align: right;\n",
       "    }\n",
       "</style>\n",
       "<table border=\"1\" class=\"dataframe\">\n",
       "  <thead>\n",
       "    <tr style=\"text-align: right;\">\n",
       "      <th></th>\n",
       "      <th>name</th>\n",
       "      <th>year</th>\n",
       "      <th>certificate</th>\n",
       "      <th>rating</th>\n",
       "      <th>votes</th>\n",
       "      <th>Comedy</th>\n",
       "      <th>boolRating</th>\n",
       "    </tr>\n",
       "  </thead>\n",
       "  <tbody>\n",
       "    <tr>\n",
       "      <th>0</th>\n",
       "      <td>Spider-Man</td>\n",
       "      <td>2018.0</td>\n",
       "      <td>0</td>\n",
       "      <td>9.2</td>\n",
       "      <td>20759.0</td>\n",
       "      <td>0</td>\n",
       "      <td>1</td>\n",
       "    </tr>\n",
       "    <tr>\n",
       "      <th>1</th>\n",
       "      <td>Red Dead Redemption II</td>\n",
       "      <td>2018.0</td>\n",
       "      <td>1</td>\n",
       "      <td>9.7</td>\n",
       "      <td>35703.0</td>\n",
       "      <td>0</td>\n",
       "      <td>1</td>\n",
       "    </tr>\n",
       "    <tr>\n",
       "      <th>2</th>\n",
       "      <td>Grand Theft Auto V</td>\n",
       "      <td>2013.0</td>\n",
       "      <td>1</td>\n",
       "      <td>9.5</td>\n",
       "      <td>59986.0</td>\n",
       "      <td>0</td>\n",
       "      <td>1</td>\n",
       "    </tr>\n",
       "    <tr>\n",
       "      <th>3</th>\n",
       "      <td>God of War</td>\n",
       "      <td>2018.0</td>\n",
       "      <td>1</td>\n",
       "      <td>9.6</td>\n",
       "      <td>26118.0</td>\n",
       "      <td>0</td>\n",
       "      <td>1</td>\n",
       "    </tr>\n",
       "    <tr>\n",
       "      <th>4</th>\n",
       "      <td>Uncharted 4: A Thief's End</td>\n",
       "      <td>2016.0</td>\n",
       "      <td>0</td>\n",
       "      <td>9.5</td>\n",
       "      <td>28722.0</td>\n",
       "      <td>0</td>\n",
       "      <td>1</td>\n",
       "    </tr>\n",
       "    <tr>\n",
       "      <th>...</th>\n",
       "      <td>...</td>\n",
       "      <td>...</td>\n",
       "      <td>...</td>\n",
       "      <td>...</td>\n",
       "      <td>...</td>\n",
       "      <td>...</td>\n",
       "      <td>...</td>\n",
       "    </tr>\n",
       "    <tr>\n",
       "      <th>20798</th>\n",
       "      <td>Enjoy Your Power, Enjoy Your Choice</td>\n",
       "      <td>2014.0</td>\n",
       "      <td>0</td>\n",
       "      <td>7.2</td>\n",
       "      <td>48.0</td>\n",
       "      <td>0</td>\n",
       "      <td>0</td>\n",
       "    </tr>\n",
       "    <tr>\n",
       "      <th>20799</th>\n",
       "      <td>RedSun2020</td>\n",
       "      <td>2004.0</td>\n",
       "      <td>0</td>\n",
       "      <td>7.2</td>\n",
       "      <td>48.0</td>\n",
       "      <td>0</td>\n",
       "      <td>0</td>\n",
       "    </tr>\n",
       "    <tr>\n",
       "      <th>20800</th>\n",
       "      <td>Shutter</td>\n",
       "      <td>2015.0</td>\n",
       "      <td>0</td>\n",
       "      <td>7.2</td>\n",
       "      <td>48.0</td>\n",
       "      <td>0</td>\n",
       "      <td>0</td>\n",
       "    </tr>\n",
       "    <tr>\n",
       "      <th>20801</th>\n",
       "      <td>The Music Machine</td>\n",
       "      <td>2015.0</td>\n",
       "      <td>0</td>\n",
       "      <td>7.2</td>\n",
       "      <td>48.0</td>\n",
       "      <td>0</td>\n",
       "      <td>0</td>\n",
       "    </tr>\n",
       "    <tr>\n",
       "      <th>20802</th>\n",
       "      <td>Cryptic</td>\n",
       "      <td>2020.0</td>\n",
       "      <td>0</td>\n",
       "      <td>7.2</td>\n",
       "      <td>48.0</td>\n",
       "      <td>0</td>\n",
       "      <td>0</td>\n",
       "    </tr>\n",
       "  </tbody>\n",
       "</table>\n",
       "<p>20803 rows × 7 columns</p>\n",
       "</div>"
      ],
      "text/plain": [
       "                                      name    year  certificate  rating  \\\n",
       "0                               Spider-Man  2018.0            0     9.2   \n",
       "1                   Red Dead Redemption II  2018.0            1     9.7   \n",
       "2                       Grand Theft Auto V  2013.0            1     9.5   \n",
       "3                               God of War  2018.0            1     9.6   \n",
       "4               Uncharted 4: A Thief's End  2016.0            0     9.5   \n",
       "...                                    ...     ...          ...     ...   \n",
       "20798  Enjoy Your Power, Enjoy Your Choice  2014.0            0     7.2   \n",
       "20799                           RedSun2020  2004.0            0     7.2   \n",
       "20800                              Shutter  2015.0            0     7.2   \n",
       "20801                    The Music Machine  2015.0            0     7.2   \n",
       "20802                              Cryptic  2020.0            0     7.2   \n",
       "\n",
       "         votes  Comedy  boolRating  \n",
       "0      20759.0       0           1  \n",
       "1      35703.0       0           1  \n",
       "2      59986.0       0           1  \n",
       "3      26118.0       0           1  \n",
       "4      28722.0       0           1  \n",
       "...        ...     ...         ...  \n",
       "20798     48.0       0           0  \n",
       "20799     48.0       0           0  \n",
       "20800     48.0       0           0  \n",
       "20801     48.0       0           0  \n",
       "20802     48.0       0           0  \n",
       "\n",
       "[20803 rows x 7 columns]"
      ]
     },
     "execution_count": 33,
     "metadata": {},
     "output_type": "execute_result"
    }
   ],
   "source": [
    "data"
   ]
  },
  {
   "cell_type": "markdown",
   "metadata": {},
   "source": [
    "# 5. Нормализация"
   ]
  },
  {
   "cell_type": "markdown",
   "metadata": {},
   "source": [
    "Стандартизация - линейное преобразование, приводящее все значения к нулевому среднему и единичному стандартному отклонению.\n",
    "Выполним стандартизацию всех признаков:"
   ]
  },
  {
   "cell_type": "code",
   "execution_count": 34,
   "metadata": {},
   "outputs": [],
   "source": [
    "data.drop(['name'], axis=1, inplace = True)"
   ]
  },
  {
   "cell_type": "code",
   "execution_count": 35,
   "metadata": {},
   "outputs": [
    {
     "data": {
      "text/html": [
       "<div>\n",
       "<style scoped>\n",
       "    .dataframe tbody tr th:only-of-type {\n",
       "        vertical-align: middle;\n",
       "    }\n",
       "\n",
       "    .dataframe tbody tr th {\n",
       "        vertical-align: top;\n",
       "    }\n",
       "\n",
       "    .dataframe thead th {\n",
       "        text-align: right;\n",
       "    }\n",
       "</style>\n",
       "<table border=\"1\" class=\"dataframe\">\n",
       "  <thead>\n",
       "    <tr style=\"text-align: right;\">\n",
       "      <th></th>\n",
       "      <th>year</th>\n",
       "      <th>certificate</th>\n",
       "      <th>rating</th>\n",
       "      <th>votes</th>\n",
       "      <th>Comedy</th>\n",
       "      <th>boolRating</th>\n",
       "    </tr>\n",
       "  </thead>\n",
       "  <tbody>\n",
       "    <tr>\n",
       "      <th>count</th>\n",
       "      <td>20803.000000</td>\n",
       "      <td>20803.000000</td>\n",
       "      <td>20803.000000</td>\n",
       "      <td>20803.000000</td>\n",
       "      <td>20803.000000</td>\n",
       "      <td>20803.000000</td>\n",
       "    </tr>\n",
       "    <tr>\n",
       "      <th>mean</th>\n",
       "      <td>2005.599817</td>\n",
       "      <td>0.698601</td>\n",
       "      <td>7.114979</td>\n",
       "      <td>372.864202</td>\n",
       "      <td>0.085709</td>\n",
       "      <td>0.337067</td>\n",
       "    </tr>\n",
       "    <tr>\n",
       "      <th>std</th>\n",
       "      <td>11.772941</td>\n",
       "      <td>1.582373</td>\n",
       "      <td>0.925455</td>\n",
       "      <td>2039.146866</td>\n",
       "      <td>0.279940</td>\n",
       "      <td>0.472719</td>\n",
       "    </tr>\n",
       "    <tr>\n",
       "      <th>min</th>\n",
       "      <td>1952.000000</td>\n",
       "      <td>0.000000</td>\n",
       "      <td>1.000000</td>\n",
       "      <td>5.000000</td>\n",
       "      <td>0.000000</td>\n",
       "      <td>0.000000</td>\n",
       "    </tr>\n",
       "    <tr>\n",
       "      <th>25%</th>\n",
       "      <td>1997.000000</td>\n",
       "      <td>0.000000</td>\n",
       "      <td>7.100000</td>\n",
       "      <td>38.000000</td>\n",
       "      <td>0.000000</td>\n",
       "      <td>0.000000</td>\n",
       "    </tr>\n",
       "    <tr>\n",
       "      <th>50%</th>\n",
       "      <td>2008.000000</td>\n",
       "      <td>0.000000</td>\n",
       "      <td>7.200000</td>\n",
       "      <td>48.000000</td>\n",
       "      <td>0.000000</td>\n",
       "      <td>0.000000</td>\n",
       "    </tr>\n",
       "    <tr>\n",
       "      <th>75%</th>\n",
       "      <td>2016.000000</td>\n",
       "      <td>1.000000</td>\n",
       "      <td>7.400000</td>\n",
       "      <td>61.000000</td>\n",
       "      <td>0.000000</td>\n",
       "      <td>1.000000</td>\n",
       "    </tr>\n",
       "    <tr>\n",
       "      <th>max</th>\n",
       "      <td>2027.000000</td>\n",
       "      <td>20.000000</td>\n",
       "      <td>9.700000</td>\n",
       "      <td>60597.000000</td>\n",
       "      <td>1.000000</td>\n",
       "      <td>1.000000</td>\n",
       "    </tr>\n",
       "  </tbody>\n",
       "</table>\n",
       "</div>"
      ],
      "text/plain": [
       "               year   certificate        rating         votes        Comedy  \\\n",
       "count  20803.000000  20803.000000  20803.000000  20803.000000  20803.000000   \n",
       "mean    2005.599817      0.698601      7.114979    372.864202      0.085709   \n",
       "std       11.772941      1.582373      0.925455   2039.146866      0.279940   \n",
       "min     1952.000000      0.000000      1.000000      5.000000      0.000000   \n",
       "25%     1997.000000      0.000000      7.100000     38.000000      0.000000   \n",
       "50%     2008.000000      0.000000      7.200000     48.000000      0.000000   \n",
       "75%     2016.000000      1.000000      7.400000     61.000000      0.000000   \n",
       "max     2027.000000     20.000000      9.700000  60597.000000      1.000000   \n",
       "\n",
       "         boolRating  \n",
       "count  20803.000000  \n",
       "mean       0.337067  \n",
       "std        0.472719  \n",
       "min        0.000000  \n",
       "25%        0.000000  \n",
       "50%        0.000000  \n",
       "75%        1.000000  \n",
       "max        1.000000  "
      ]
     },
     "execution_count": 35,
     "metadata": {},
     "output_type": "execute_result"
    }
   ],
   "source": [
    "data_stand = (data - data.mean(axis = 0))/data.std(axis = 0)\n",
    "data.describe()"
   ]
  },
  {
   "cell_type": "markdown",
   "metadata": {},
   "source": [
    "# 6. Разбиваем данные на обучающую и тестовую выборки."
   ]
  },
  {
   "cell_type": "code",
   "execution_count": 36,
   "metadata": {},
   "outputs": [
    {
     "data": {
      "text/plain": [
       "Index(['year', 'certificate', 'rating', 'votes', 'Comedy', 'boolRating'], dtype='object')"
      ]
     },
     "execution_count": 36,
     "metadata": {},
     "output_type": "execute_result"
    }
   ],
   "source": [
    "data_stand.columns"
   ]
  },
  {
   "cell_type": "markdown",
   "metadata": {},
   "source": [
    "Для предсказания жанра будем использовать все входные признаки, кроме 'Comedy', 'boolRating'."
   ]
  },
  {
   "cell_type": "code",
   "execution_count": 37,
   "metadata": {},
   "outputs": [],
   "source": [
    "X = data_stand.drop(['Comedy',  'boolRating'], axis=1)\n",
    "y = data['Comedy']"
   ]
  },
  {
   "cell_type": "code",
   "execution_count": 38,
   "metadata": {},
   "outputs": [
    {
     "data": {
      "text/html": [
       "<div>\n",
       "<style scoped>\n",
       "    .dataframe tbody tr th:only-of-type {\n",
       "        vertical-align: middle;\n",
       "    }\n",
       "\n",
       "    .dataframe tbody tr th {\n",
       "        vertical-align: top;\n",
       "    }\n",
       "\n",
       "    .dataframe thead th {\n",
       "        text-align: right;\n",
       "    }\n",
       "</style>\n",
       "<table border=\"1\" class=\"dataframe\">\n",
       "  <thead>\n",
       "    <tr style=\"text-align: right;\">\n",
       "      <th></th>\n",
       "      <th>year</th>\n",
       "      <th>certificate</th>\n",
       "      <th>rating</th>\n",
       "      <th>votes</th>\n",
       "    </tr>\n",
       "  </thead>\n",
       "  <tbody>\n",
       "    <tr>\n",
       "      <th>0</th>\n",
       "      <td>1.053278</td>\n",
       "      <td>-0.441490</td>\n",
       "      <td>2.252969</td>\n",
       "      <td>9.997385</td>\n",
       "    </tr>\n",
       "    <tr>\n",
       "      <th>1</th>\n",
       "      <td>1.053278</td>\n",
       "      <td>0.190473</td>\n",
       "      <td>2.793243</td>\n",
       "      <td>17.325940</td>\n",
       "    </tr>\n",
       "    <tr>\n",
       "      <th>2</th>\n",
       "      <td>0.628576</td>\n",
       "      <td>0.190473</td>\n",
       "      <td>2.577133</td>\n",
       "      <td>29.234351</td>\n",
       "    </tr>\n",
       "    <tr>\n",
       "      <th>3</th>\n",
       "      <td>1.053278</td>\n",
       "      <td>0.190473</td>\n",
       "      <td>2.685188</td>\n",
       "      <td>12.625445</td>\n",
       "    </tr>\n",
       "    <tr>\n",
       "      <th>4</th>\n",
       "      <td>0.883397</td>\n",
       "      <td>-0.441490</td>\n",
       "      <td>2.577133</td>\n",
       "      <td>13.902449</td>\n",
       "    </tr>\n",
       "  </tbody>\n",
       "</table>\n",
       "</div>"
      ],
      "text/plain": [
       "       year  certificate    rating      votes\n",
       "0  1.053278    -0.441490  2.252969   9.997385\n",
       "1  1.053278     0.190473  2.793243  17.325940\n",
       "2  0.628576     0.190473  2.577133  29.234351\n",
       "3  1.053278     0.190473  2.685188  12.625445\n",
       "4  0.883397    -0.441490  2.577133  13.902449"
      ]
     },
     "execution_count": 38,
     "metadata": {},
     "output_type": "execute_result"
    }
   ],
   "source": [
    "X.head()"
   ]
  },
  {
   "cell_type": "markdown",
   "metadata": {},
   "source": [
    "### Разобьем данные на обучающую и тестовую выборки в пропорции 3:1 (75% - обучающая выборка, 25% - тестовая):"
   ]
  },
  {
   "cell_type": "code",
   "execution_count": 39,
   "metadata": {},
   "outputs": [
    {
     "data": {
      "text/plain": [
       "(15602, 5201)"
      ]
     },
     "execution_count": 39,
     "metadata": {},
     "output_type": "execute_result"
    }
   ],
   "source": [
    "from sklearn.model_selection import train_test_split\n",
    "X_train, X_test, y_train, y_test = train_test_split(X, y, test_size = 0.25, random_state = 42)\n",
    "\n",
    "N_train, _ = X_train.shape \n",
    "N_test,  _ = X_test.shape \n",
    "\n",
    "N_train, N_test"
   ]
  },
  {
   "cell_type": "markdown",
   "metadata": {},
   "source": [
    "# 7. Запустить классификатор ближайших соседей. Вычислить ошибки."
   ]
  },
  {
   "cell_type": "markdown",
   "metadata": {},
   "source": [
    "3 соседа"
   ]
  },
  {
   "cell_type": "code",
   "execution_count": 40,
   "metadata": {},
   "outputs": [
    {
     "name": "stdout",
     "output_type": "stream",
     "text": [
      " Train : 0.9258428406614536, Test: 0.9219380888290714. \n",
      "Error: Train : 0.07415715933854634, Test: 0.07806191117092867 \n"
     ]
    }
   ],
   "source": [
    "from sklearn import neighbors\n",
    "model = neighbors.KNeighborsClassifier(n_neighbors = 3)\n",
    "model.fit(X, y)\n",
    "knn_training_predict =  model.score(X_train, y_train)\n",
    "knn_test_predict =  model.score(X_test, y_test)\n",
    "print(\" Train : {}, Test: {}. \".format(knn_training_predict, knn_test_predict))\n",
    "\n",
    "err_train = np.mean(y_train != model.predict(X_train))\n",
    "err_test  = np.mean(y_test  != model.predict(X_test))\n",
    "print(\"Error: Train : {}, Test: {} \".format(err_train, err_test))"
   ]
  },
  {
   "cell_type": "markdown",
   "metadata": {},
   "source": [
    "7 соседей"
   ]
  },
  {
   "cell_type": "code",
   "execution_count": 41,
   "metadata": {
    "scrolled": true
   },
   "outputs": [
    {
     "name": "stdout",
     "output_type": "stream",
     "text": [
      " Train : 0.9168055377515704, Test: 0.9111709286675639. \n",
      "Error: Train : 0.08319446224842969, Test: 0.08882907133243607 \n"
     ]
    }
   ],
   "source": [
    "from sklearn import neighbors\n",
    "model = neighbors.KNeighborsClassifier(n_neighbors = 7)\n",
    "model.fit(X, y)\n",
    "knn_training_predict =  model.score(X_train, y_train)\n",
    "knn_test_predict =  model.score(X_test, y_test)\n",
    "print(\" Train : {}, Test: {}. \".format(knn_training_predict, knn_test_predict))\n",
    "\n",
    "err_train = np.mean(y_train != model.predict(X_train))\n",
    "err_test  = np.mean(y_test  != model.predict(X_test))\n",
    "\n",
    "print(\"Error: Train : {}, Test: {} \".format(err_train, err_test))"
   ]
  },
  {
   "cell_type": "markdown",
   "metadata": {},
   "source": [
    "10 соседей"
   ]
  },
  {
   "cell_type": "code",
   "execution_count": 42,
   "metadata": {},
   "outputs": [
    {
     "name": "stdout",
     "output_type": "stream",
     "text": [
      " Train : 0.9160364055890271, Test: 0.9094404922130359. \n",
      "Error: Train : 0.08396359441097295, Test: 0.09055950778696405 \n"
     ]
    }
   ],
   "source": [
    "from sklearn import neighbors\n",
    "model = neighbors.KNeighborsClassifier(n_neighbors = 10)\n",
    "model.fit(X, y)\n",
    "knn_training_predict =  model.score(X_train, y_train)\n",
    "knn_test_predict =  model.score(X_test, y_test)\n",
    "print(\" Train : {}, Test: {}. \".format(knn_training_predict, knn_test_predict))\n",
    "\n",
    "err_train = np.mean(y_train != model.predict(X_train))\n",
    "err_test  = np.mean(y_test  != model.predict(X_test))\n",
    "\n",
    "print(\"Error: Train : {}, Test: {} \".format(err_train, err_test))"
   ]
  },
  {
   "cell_type": "markdown",
   "metadata": {},
   "source": [
    "# 8. Сделать выводы"
   ]
  },
  {
   "cell_type": "markdown",
   "metadata": {},
   "source": [
    "При малом количестве соседей точность на обучающей выборке выше, при увеличении количества соседей до определенного значения точность ухудшается, но это позволит улучшить точность на тестовой выборке."
   ]
  }
 ],
 "metadata": {
  "kernelspec": {
   "display_name": "Python 3",
   "language": "python",
   "name": "python3"
  },
  "language_info": {
   "codemirror_mode": {
    "name": "ipython",
    "version": 3
   },
   "file_extension": ".py",
   "mimetype": "text/x-python",
   "name": "python",
   "nbconvert_exporter": "python",
   "pygments_lexer": "ipython3",
   "version": "3.8.3"
  },
  "vscode": {
   "interpreter": {
    "hash": "97c568b088d38ff5798073a40e31d97357a5af0a2aaae0bedea0d5012c40309f"
   }
  }
 },
 "nbformat": 4,
 "nbformat_minor": 4
}
